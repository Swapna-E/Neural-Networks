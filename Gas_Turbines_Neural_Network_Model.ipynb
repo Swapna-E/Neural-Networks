{
  "cells": [
    {
      "cell_type": "code",
      "execution_count": null,
      "id": "614869d7",
      "metadata": {
        "id": "614869d7"
      },
      "outputs": [],
      "source": [
        "# first neural network model with keras tutorial\n",
        "#!pip install keras\n",
        "#!pip install tensorflow \n",
        "from numpy import loadtxt\n",
        "from keras.models import Sequential\n",
        "from keras.layers import Dense\n",
        "from keras.optimizers import SGD\n",
        "import pandas as pd\n"
      ]
    },
    {
      "cell_type": "code",
      "execution_count": null,
      "id": "cd22231a",
      "metadata": {
        "id": "cd22231a"
      },
      "outputs": [],
      "source": [
        "# load the dataset\n",
        "gt=pd.read_csv(\"gas_turbines.csv\")"
      ]
    },
    {
      "cell_type": "code",
      "execution_count": null,
      "id": "41fe0a2b",
      "metadata": {
        "colab": {
          "base_uri": "https://localhost:8080/",
          "height": 206
        },
        "id": "41fe0a2b",
        "outputId": "0b4a2a81-8f0a-4c44-e43f-2f5f9f61e7cb"
      },
      "outputs": [
        {
          "output_type": "execute_result",
          "data": {
            "text/plain": [
              "       AT      AP      AH    AFDP    GTEP     TIT     TAT     TEY     CDP  \\\n",
              "0  6.8594  1007.9  96.799  3.5000  19.663  1059.2  550.00  114.70  10.605   \n",
              "1  6.7850  1008.4  97.118  3.4998  19.728  1059.3  550.00  114.72  10.598   \n",
              "2  6.8977  1008.8  95.939  3.4824  19.779  1059.4  549.87  114.71  10.601   \n",
              "3  7.0569  1009.2  95.249  3.4805  19.792  1059.6  549.99  114.72  10.606   \n",
              "4  7.3978  1009.7  95.150  3.4976  19.765  1059.7  549.98  114.72  10.612   \n",
              "\n",
              "       CO     NOX  \n",
              "0  3.1547  82.722  \n",
              "1  3.2363  82.776  \n",
              "2  3.2012  82.468  \n",
              "3  3.1923  82.670  \n",
              "4  3.2484  82.311  "
            ],
            "text/html": [
              "\n",
              "  <div id=\"df-4cbd415e-3a06-4233-9cf9-97f541376a51\">\n",
              "    <div class=\"colab-df-container\">\n",
              "      <div>\n",
              "<style scoped>\n",
              "    .dataframe tbody tr th:only-of-type {\n",
              "        vertical-align: middle;\n",
              "    }\n",
              "\n",
              "    .dataframe tbody tr th {\n",
              "        vertical-align: top;\n",
              "    }\n",
              "\n",
              "    .dataframe thead th {\n",
              "        text-align: right;\n",
              "    }\n",
              "</style>\n",
              "<table border=\"1\" class=\"dataframe\">\n",
              "  <thead>\n",
              "    <tr style=\"text-align: right;\">\n",
              "      <th></th>\n",
              "      <th>AT</th>\n",
              "      <th>AP</th>\n",
              "      <th>AH</th>\n",
              "      <th>AFDP</th>\n",
              "      <th>GTEP</th>\n",
              "      <th>TIT</th>\n",
              "      <th>TAT</th>\n",
              "      <th>TEY</th>\n",
              "      <th>CDP</th>\n",
              "      <th>CO</th>\n",
              "      <th>NOX</th>\n",
              "    </tr>\n",
              "  </thead>\n",
              "  <tbody>\n",
              "    <tr>\n",
              "      <th>0</th>\n",
              "      <td>6.8594</td>\n",
              "      <td>1007.9</td>\n",
              "      <td>96.799</td>\n",
              "      <td>3.5000</td>\n",
              "      <td>19.663</td>\n",
              "      <td>1059.2</td>\n",
              "      <td>550.00</td>\n",
              "      <td>114.70</td>\n",
              "      <td>10.605</td>\n",
              "      <td>3.1547</td>\n",
              "      <td>82.722</td>\n",
              "    </tr>\n",
              "    <tr>\n",
              "      <th>1</th>\n",
              "      <td>6.7850</td>\n",
              "      <td>1008.4</td>\n",
              "      <td>97.118</td>\n",
              "      <td>3.4998</td>\n",
              "      <td>19.728</td>\n",
              "      <td>1059.3</td>\n",
              "      <td>550.00</td>\n",
              "      <td>114.72</td>\n",
              "      <td>10.598</td>\n",
              "      <td>3.2363</td>\n",
              "      <td>82.776</td>\n",
              "    </tr>\n",
              "    <tr>\n",
              "      <th>2</th>\n",
              "      <td>6.8977</td>\n",
              "      <td>1008.8</td>\n",
              "      <td>95.939</td>\n",
              "      <td>3.4824</td>\n",
              "      <td>19.779</td>\n",
              "      <td>1059.4</td>\n",
              "      <td>549.87</td>\n",
              "      <td>114.71</td>\n",
              "      <td>10.601</td>\n",
              "      <td>3.2012</td>\n",
              "      <td>82.468</td>\n",
              "    </tr>\n",
              "    <tr>\n",
              "      <th>3</th>\n",
              "      <td>7.0569</td>\n",
              "      <td>1009.2</td>\n",
              "      <td>95.249</td>\n",
              "      <td>3.4805</td>\n",
              "      <td>19.792</td>\n",
              "      <td>1059.6</td>\n",
              "      <td>549.99</td>\n",
              "      <td>114.72</td>\n",
              "      <td>10.606</td>\n",
              "      <td>3.1923</td>\n",
              "      <td>82.670</td>\n",
              "    </tr>\n",
              "    <tr>\n",
              "      <th>4</th>\n",
              "      <td>7.3978</td>\n",
              "      <td>1009.7</td>\n",
              "      <td>95.150</td>\n",
              "      <td>3.4976</td>\n",
              "      <td>19.765</td>\n",
              "      <td>1059.7</td>\n",
              "      <td>549.98</td>\n",
              "      <td>114.72</td>\n",
              "      <td>10.612</td>\n",
              "      <td>3.2484</td>\n",
              "      <td>82.311</td>\n",
              "    </tr>\n",
              "  </tbody>\n",
              "</table>\n",
              "</div>\n",
              "      <button class=\"colab-df-convert\" onclick=\"convertToInteractive('df-4cbd415e-3a06-4233-9cf9-97f541376a51')\"\n",
              "              title=\"Convert this dataframe to an interactive table.\"\n",
              "              style=\"display:none;\">\n",
              "        \n",
              "  <svg xmlns=\"http://www.w3.org/2000/svg\" height=\"24px\"viewBox=\"0 0 24 24\"\n",
              "       width=\"24px\">\n",
              "    <path d=\"M0 0h24v24H0V0z\" fill=\"none\"/>\n",
              "    <path d=\"M18.56 5.44l.94 2.06.94-2.06 2.06-.94-2.06-.94-.94-2.06-.94 2.06-2.06.94zm-11 1L8.5 8.5l.94-2.06 2.06-.94-2.06-.94L8.5 2.5l-.94 2.06-2.06.94zm10 10l.94 2.06.94-2.06 2.06-.94-2.06-.94-.94-2.06-.94 2.06-2.06.94z\"/><path d=\"M17.41 7.96l-1.37-1.37c-.4-.4-.92-.59-1.43-.59-.52 0-1.04.2-1.43.59L10.3 9.45l-7.72 7.72c-.78.78-.78 2.05 0 2.83L4 21.41c.39.39.9.59 1.41.59.51 0 1.02-.2 1.41-.59l7.78-7.78 2.81-2.81c.8-.78.8-2.07 0-2.86zM5.41 20L4 18.59l7.72-7.72 1.47 1.35L5.41 20z\"/>\n",
              "  </svg>\n",
              "      </button>\n",
              "      \n",
              "  <style>\n",
              "    .colab-df-container {\n",
              "      display:flex;\n",
              "      flex-wrap:wrap;\n",
              "      gap: 12px;\n",
              "    }\n",
              "\n",
              "    .colab-df-convert {\n",
              "      background-color: #E8F0FE;\n",
              "      border: none;\n",
              "      border-radius: 50%;\n",
              "      cursor: pointer;\n",
              "      display: none;\n",
              "      fill: #1967D2;\n",
              "      height: 32px;\n",
              "      padding: 0 0 0 0;\n",
              "      width: 32px;\n",
              "    }\n",
              "\n",
              "    .colab-df-convert:hover {\n",
              "      background-color: #E2EBFA;\n",
              "      box-shadow: 0px 1px 2px rgba(60, 64, 67, 0.3), 0px 1px 3px 1px rgba(60, 64, 67, 0.15);\n",
              "      fill: #174EA6;\n",
              "    }\n",
              "\n",
              "    [theme=dark] .colab-df-convert {\n",
              "      background-color: #3B4455;\n",
              "      fill: #D2E3FC;\n",
              "    }\n",
              "\n",
              "    [theme=dark] .colab-df-convert:hover {\n",
              "      background-color: #434B5C;\n",
              "      box-shadow: 0px 1px 3px 1px rgba(0, 0, 0, 0.15);\n",
              "      filter: drop-shadow(0px 1px 2px rgba(0, 0, 0, 0.3));\n",
              "      fill: #FFFFFF;\n",
              "    }\n",
              "  </style>\n",
              "\n",
              "      <script>\n",
              "        const buttonEl =\n",
              "          document.querySelector('#df-4cbd415e-3a06-4233-9cf9-97f541376a51 button.colab-df-convert');\n",
              "        buttonEl.style.display =\n",
              "          google.colab.kernel.accessAllowed ? 'block' : 'none';\n",
              "\n",
              "        async function convertToInteractive(key) {\n",
              "          const element = document.querySelector('#df-4cbd415e-3a06-4233-9cf9-97f541376a51');\n",
              "          const dataTable =\n",
              "            await google.colab.kernel.invokeFunction('convertToInteractive',\n",
              "                                                     [key], {});\n",
              "          if (!dataTable) return;\n",
              "\n",
              "          const docLinkHtml = 'Like what you see? Visit the ' +\n",
              "            '<a target=\"_blank\" href=https://colab.research.google.com/notebooks/data_table.ipynb>data table notebook</a>'\n",
              "            + ' to learn more about interactive tables.';\n",
              "          element.innerHTML = '';\n",
              "          dataTable['output_type'] = 'display_data';\n",
              "          await google.colab.output.renderOutput(dataTable, element);\n",
              "          const docLink = document.createElement('div');\n",
              "          docLink.innerHTML = docLinkHtml;\n",
              "          element.appendChild(docLink);\n",
              "        }\n",
              "      </script>\n",
              "    </div>\n",
              "  </div>\n",
              "  "
            ]
          },
          "metadata": {},
          "execution_count": 4
        }
      ],
      "source": [
        "gt.head()"
      ]
    },
    {
      "cell_type": "code",
      "execution_count": null,
      "id": "3d5a705d",
      "metadata": {
        "colab": {
          "base_uri": "https://localhost:8080/"
        },
        "id": "3d5a705d",
        "outputId": "30e3af7e-6664-4af3-abb3-8854775e009b"
      },
      "outputs": [
        {
          "output_type": "stream",
          "name": "stdout",
          "text": [
            "<class 'pandas.core.frame.DataFrame'>\n",
            "RangeIndex: 15039 entries, 0 to 15038\n",
            "Data columns (total 11 columns):\n",
            " #   Column  Non-Null Count  Dtype  \n",
            "---  ------  --------------  -----  \n",
            " 0   AT      15039 non-null  float64\n",
            " 1   AP      15039 non-null  float64\n",
            " 2   AH      15039 non-null  float64\n",
            " 3   AFDP    15039 non-null  float64\n",
            " 4   GTEP    15039 non-null  float64\n",
            " 5   TIT     15039 non-null  float64\n",
            " 6   TAT     15039 non-null  float64\n",
            " 7   TEY     15039 non-null  float64\n",
            " 8   CDP     15039 non-null  float64\n",
            " 9   CO      15039 non-null  float64\n",
            " 10  NOX     15039 non-null  float64\n",
            "dtypes: float64(11)\n",
            "memory usage: 1.3 MB\n"
          ]
        }
      ],
      "source": [
        "gt.info()"
      ]
    },
    {
      "cell_type": "code",
      "execution_count": null,
      "id": "3702c41c",
      "metadata": {
        "colab": {
          "base_uri": "https://localhost:8080/"
        },
        "id": "3702c41c",
        "outputId": "d7d62de3-e6f9-4acc-ae3b-e696fdf2080a"
      },
      "outputs": [
        {
          "output_type": "execute_result",
          "data": {
            "text/plain": [
              "(15039, 11)"
            ]
          },
          "metadata": {},
          "execution_count": 6
        }
      ],
      "source": [
        "gt.shape"
      ]
    },
    {
      "cell_type": "code",
      "execution_count": null,
      "id": "4427683a",
      "metadata": {
        "colab": {
          "base_uri": "https://localhost:8080/",
          "height": 364
        },
        "id": "4427683a",
        "outputId": "f316a0c4-5bca-4262-80e6-3708b1a1670a"
      },
      "outputs": [
        {
          "output_type": "execute_result",
          "data": {
            "text/plain": [
              "                 AT           AP            AH          AFDP          GTEP  \\\n",
              "count  15039.000000  15039.00000  15039.000000  15039.000000  15039.000000   \n",
              "mean      17.764381   1013.19924     79.124174      4.200294     25.419061   \n",
              "std        7.574323      6.41076     13.793439      0.760197      4.173916   \n",
              "min        0.522300    985.85000     30.344000      2.087400     17.878000   \n",
              "25%       11.408000   1008.90000     69.750000      3.723900     23.294000   \n",
              "50%       18.186000   1012.80000     82.266000      4.186200     25.082000   \n",
              "75%       23.862500   1016.90000     90.043500      4.550900     27.184000   \n",
              "max       34.929000   1034.20000    100.200000      7.610600     37.402000   \n",
              "\n",
              "                TIT           TAT           TEY           CDP            CO  \\\n",
              "count  15039.000000  15039.000000  15039.000000  15039.000000  15039.000000   \n",
              "mean    1083.798770    545.396183    134.188464     12.102353      1.972499   \n",
              "std       16.527806      7.866803     15.829717      1.103196      2.222206   \n",
              "min     1000.800000    512.450000    100.170000      9.904400      0.000388   \n",
              "25%     1079.600000    542.170000    127.985000     11.622000      0.858055   \n",
              "50%     1088.700000    549.890000    133.780000     12.025000      1.390200   \n",
              "75%     1096.000000    550.060000    140.895000     12.578000      2.160400   \n",
              "max     1100.800000    550.610000    174.610000     15.081000     44.103000   \n",
              "\n",
              "                NOX  \n",
              "count  15039.000000  \n",
              "mean      68.190934  \n",
              "std       10.470586  \n",
              "min       27.765000  \n",
              "25%       61.303500  \n",
              "50%       66.601000  \n",
              "75%       73.935500  \n",
              "max      119.890000  "
            ],
            "text/html": [
              "\n",
              "  <div id=\"df-6dfa39de-5d7a-418c-9ed9-fc65ff17cbcf\">\n",
              "    <div class=\"colab-df-container\">\n",
              "      <div>\n",
              "<style scoped>\n",
              "    .dataframe tbody tr th:only-of-type {\n",
              "        vertical-align: middle;\n",
              "    }\n",
              "\n",
              "    .dataframe tbody tr th {\n",
              "        vertical-align: top;\n",
              "    }\n",
              "\n",
              "    .dataframe thead th {\n",
              "        text-align: right;\n",
              "    }\n",
              "</style>\n",
              "<table border=\"1\" class=\"dataframe\">\n",
              "  <thead>\n",
              "    <tr style=\"text-align: right;\">\n",
              "      <th></th>\n",
              "      <th>AT</th>\n",
              "      <th>AP</th>\n",
              "      <th>AH</th>\n",
              "      <th>AFDP</th>\n",
              "      <th>GTEP</th>\n",
              "      <th>TIT</th>\n",
              "      <th>TAT</th>\n",
              "      <th>TEY</th>\n",
              "      <th>CDP</th>\n",
              "      <th>CO</th>\n",
              "      <th>NOX</th>\n",
              "    </tr>\n",
              "  </thead>\n",
              "  <tbody>\n",
              "    <tr>\n",
              "      <th>count</th>\n",
              "      <td>15039.000000</td>\n",
              "      <td>15039.00000</td>\n",
              "      <td>15039.000000</td>\n",
              "      <td>15039.000000</td>\n",
              "      <td>15039.000000</td>\n",
              "      <td>15039.000000</td>\n",
              "      <td>15039.000000</td>\n",
              "      <td>15039.000000</td>\n",
              "      <td>15039.000000</td>\n",
              "      <td>15039.000000</td>\n",
              "      <td>15039.000000</td>\n",
              "    </tr>\n",
              "    <tr>\n",
              "      <th>mean</th>\n",
              "      <td>17.764381</td>\n",
              "      <td>1013.19924</td>\n",
              "      <td>79.124174</td>\n",
              "      <td>4.200294</td>\n",
              "      <td>25.419061</td>\n",
              "      <td>1083.798770</td>\n",
              "      <td>545.396183</td>\n",
              "      <td>134.188464</td>\n",
              "      <td>12.102353</td>\n",
              "      <td>1.972499</td>\n",
              "      <td>68.190934</td>\n",
              "    </tr>\n",
              "    <tr>\n",
              "      <th>std</th>\n",
              "      <td>7.574323</td>\n",
              "      <td>6.41076</td>\n",
              "      <td>13.793439</td>\n",
              "      <td>0.760197</td>\n",
              "      <td>4.173916</td>\n",
              "      <td>16.527806</td>\n",
              "      <td>7.866803</td>\n",
              "      <td>15.829717</td>\n",
              "      <td>1.103196</td>\n",
              "      <td>2.222206</td>\n",
              "      <td>10.470586</td>\n",
              "    </tr>\n",
              "    <tr>\n",
              "      <th>min</th>\n",
              "      <td>0.522300</td>\n",
              "      <td>985.85000</td>\n",
              "      <td>30.344000</td>\n",
              "      <td>2.087400</td>\n",
              "      <td>17.878000</td>\n",
              "      <td>1000.800000</td>\n",
              "      <td>512.450000</td>\n",
              "      <td>100.170000</td>\n",
              "      <td>9.904400</td>\n",
              "      <td>0.000388</td>\n",
              "      <td>27.765000</td>\n",
              "    </tr>\n",
              "    <tr>\n",
              "      <th>25%</th>\n",
              "      <td>11.408000</td>\n",
              "      <td>1008.90000</td>\n",
              "      <td>69.750000</td>\n",
              "      <td>3.723900</td>\n",
              "      <td>23.294000</td>\n",
              "      <td>1079.600000</td>\n",
              "      <td>542.170000</td>\n",
              "      <td>127.985000</td>\n",
              "      <td>11.622000</td>\n",
              "      <td>0.858055</td>\n",
              "      <td>61.303500</td>\n",
              "    </tr>\n",
              "    <tr>\n",
              "      <th>50%</th>\n",
              "      <td>18.186000</td>\n",
              "      <td>1012.80000</td>\n",
              "      <td>82.266000</td>\n",
              "      <td>4.186200</td>\n",
              "      <td>25.082000</td>\n",
              "      <td>1088.700000</td>\n",
              "      <td>549.890000</td>\n",
              "      <td>133.780000</td>\n",
              "      <td>12.025000</td>\n",
              "      <td>1.390200</td>\n",
              "      <td>66.601000</td>\n",
              "    </tr>\n",
              "    <tr>\n",
              "      <th>75%</th>\n",
              "      <td>23.862500</td>\n",
              "      <td>1016.90000</td>\n",
              "      <td>90.043500</td>\n",
              "      <td>4.550900</td>\n",
              "      <td>27.184000</td>\n",
              "      <td>1096.000000</td>\n",
              "      <td>550.060000</td>\n",
              "      <td>140.895000</td>\n",
              "      <td>12.578000</td>\n",
              "      <td>2.160400</td>\n",
              "      <td>73.935500</td>\n",
              "    </tr>\n",
              "    <tr>\n",
              "      <th>max</th>\n",
              "      <td>34.929000</td>\n",
              "      <td>1034.20000</td>\n",
              "      <td>100.200000</td>\n",
              "      <td>7.610600</td>\n",
              "      <td>37.402000</td>\n",
              "      <td>1100.800000</td>\n",
              "      <td>550.610000</td>\n",
              "      <td>174.610000</td>\n",
              "      <td>15.081000</td>\n",
              "      <td>44.103000</td>\n",
              "      <td>119.890000</td>\n",
              "    </tr>\n",
              "  </tbody>\n",
              "</table>\n",
              "</div>\n",
              "      <button class=\"colab-df-convert\" onclick=\"convertToInteractive('df-6dfa39de-5d7a-418c-9ed9-fc65ff17cbcf')\"\n",
              "              title=\"Convert this dataframe to an interactive table.\"\n",
              "              style=\"display:none;\">\n",
              "        \n",
              "  <svg xmlns=\"http://www.w3.org/2000/svg\" height=\"24px\"viewBox=\"0 0 24 24\"\n",
              "       width=\"24px\">\n",
              "    <path d=\"M0 0h24v24H0V0z\" fill=\"none\"/>\n",
              "    <path d=\"M18.56 5.44l.94 2.06.94-2.06 2.06-.94-2.06-.94-.94-2.06-.94 2.06-2.06.94zm-11 1L8.5 8.5l.94-2.06 2.06-.94-2.06-.94L8.5 2.5l-.94 2.06-2.06.94zm10 10l.94 2.06.94-2.06 2.06-.94-2.06-.94-.94-2.06-.94 2.06-2.06.94z\"/><path d=\"M17.41 7.96l-1.37-1.37c-.4-.4-.92-.59-1.43-.59-.52 0-1.04.2-1.43.59L10.3 9.45l-7.72 7.72c-.78.78-.78 2.05 0 2.83L4 21.41c.39.39.9.59 1.41.59.51 0 1.02-.2 1.41-.59l7.78-7.78 2.81-2.81c.8-.78.8-2.07 0-2.86zM5.41 20L4 18.59l7.72-7.72 1.47 1.35L5.41 20z\"/>\n",
              "  </svg>\n",
              "      </button>\n",
              "      \n",
              "  <style>\n",
              "    .colab-df-container {\n",
              "      display:flex;\n",
              "      flex-wrap:wrap;\n",
              "      gap: 12px;\n",
              "    }\n",
              "\n",
              "    .colab-df-convert {\n",
              "      background-color: #E8F0FE;\n",
              "      border: none;\n",
              "      border-radius: 50%;\n",
              "      cursor: pointer;\n",
              "      display: none;\n",
              "      fill: #1967D2;\n",
              "      height: 32px;\n",
              "      padding: 0 0 0 0;\n",
              "      width: 32px;\n",
              "    }\n",
              "\n",
              "    .colab-df-convert:hover {\n",
              "      background-color: #E2EBFA;\n",
              "      box-shadow: 0px 1px 2px rgba(60, 64, 67, 0.3), 0px 1px 3px 1px rgba(60, 64, 67, 0.15);\n",
              "      fill: #174EA6;\n",
              "    }\n",
              "\n",
              "    [theme=dark] .colab-df-convert {\n",
              "      background-color: #3B4455;\n",
              "      fill: #D2E3FC;\n",
              "    }\n",
              "\n",
              "    [theme=dark] .colab-df-convert:hover {\n",
              "      background-color: #434B5C;\n",
              "      box-shadow: 0px 1px 3px 1px rgba(0, 0, 0, 0.15);\n",
              "      filter: drop-shadow(0px 1px 2px rgba(0, 0, 0, 0.3));\n",
              "      fill: #FFFFFF;\n",
              "    }\n",
              "  </style>\n",
              "\n",
              "      <script>\n",
              "        const buttonEl =\n",
              "          document.querySelector('#df-6dfa39de-5d7a-418c-9ed9-fc65ff17cbcf button.colab-df-convert');\n",
              "        buttonEl.style.display =\n",
              "          google.colab.kernel.accessAllowed ? 'block' : 'none';\n",
              "\n",
              "        async function convertToInteractive(key) {\n",
              "          const element = document.querySelector('#df-6dfa39de-5d7a-418c-9ed9-fc65ff17cbcf');\n",
              "          const dataTable =\n",
              "            await google.colab.kernel.invokeFunction('convertToInteractive',\n",
              "                                                     [key], {});\n",
              "          if (!dataTable) return;\n",
              "\n",
              "          const docLinkHtml = 'Like what you see? Visit the ' +\n",
              "            '<a target=\"_blank\" href=https://colab.research.google.com/notebooks/data_table.ipynb>data table notebook</a>'\n",
              "            + ' to learn more about interactive tables.';\n",
              "          element.innerHTML = '';\n",
              "          dataTable['output_type'] = 'display_data';\n",
              "          await google.colab.output.renderOutput(dataTable, element);\n",
              "          const docLink = document.createElement('div');\n",
              "          docLink.innerHTML = docLinkHtml;\n",
              "          element.appendChild(docLink);\n",
              "        }\n",
              "      </script>\n",
              "    </div>\n",
              "  </div>\n",
              "  "
            ]
          },
          "metadata": {},
          "execution_count": 7
        }
      ],
      "source": [
        "gt.describe()"
      ]
    },
    {
      "cell_type": "code",
      "execution_count": null,
      "id": "a1af9ef5",
      "metadata": {
        "colab": {
          "base_uri": "https://localhost:8080/"
        },
        "id": "a1af9ef5",
        "outputId": "d3532f57-ee26-4195-e424-bf814b5136e3"
      },
      "outputs": [
        {
          "output_type": "execute_result",
          "data": {
            "text/plain": [
              "AT      0\n",
              "AP      0\n",
              "AH      0\n",
              "AFDP    0\n",
              "GTEP    0\n",
              "TIT     0\n",
              "TAT     0\n",
              "TEY     0\n",
              "CDP     0\n",
              "CO      0\n",
              "NOX     0\n",
              "dtype: int64"
            ]
          },
          "metadata": {},
          "execution_count": 8
        }
      ],
      "source": [
        "gt.isnull().sum()"
      ]
    },
    {
      "cell_type": "code",
      "execution_count": null,
      "id": "a1ddcb4d",
      "metadata": {
        "colab": {
          "base_uri": "https://localhost:8080/"
        },
        "id": "a1ddcb4d",
        "outputId": "fb756681-a0a2-46d5-91fe-fd0810f01631"
      },
      "outputs": [
        {
          "output_type": "stream",
          "name": "stdout",
          "text": [
            "0\n"
          ]
        }
      ],
      "source": [
        "# check for duplicate data\n",
        "duplicate = gt.duplicated()\n",
        "print(duplicate.sum())"
      ]
    },
    {
      "cell_type": "code",
      "execution_count": null,
      "id": "8e258d63",
      "metadata": {
        "colab": {
          "base_uri": "https://localhost:8080/",
          "height": 49
        },
        "id": "8e258d63",
        "outputId": "cac73333-4856-4f82-e979-e8328cc12b74"
      },
      "outputs": [
        {
          "output_type": "execute_result",
          "data": {
            "text/plain": [
              "Empty DataFrame\n",
              "Columns: [AT, AP, AH, AFDP, GTEP, TIT, TAT, TEY, CDP, CO, NOX]\n",
              "Index: []"
            ],
            "text/html": [
              "\n",
              "  <div id=\"df-9ce73fda-ed7c-4891-b035-6358caec65b9\">\n",
              "    <div class=\"colab-df-container\">\n",
              "      <div>\n",
              "<style scoped>\n",
              "    .dataframe tbody tr th:only-of-type {\n",
              "        vertical-align: middle;\n",
              "    }\n",
              "\n",
              "    .dataframe tbody tr th {\n",
              "        vertical-align: top;\n",
              "    }\n",
              "\n",
              "    .dataframe thead th {\n",
              "        text-align: right;\n",
              "    }\n",
              "</style>\n",
              "<table border=\"1\" class=\"dataframe\">\n",
              "  <thead>\n",
              "    <tr style=\"text-align: right;\">\n",
              "      <th></th>\n",
              "      <th>AT</th>\n",
              "      <th>AP</th>\n",
              "      <th>AH</th>\n",
              "      <th>AFDP</th>\n",
              "      <th>GTEP</th>\n",
              "      <th>TIT</th>\n",
              "      <th>TAT</th>\n",
              "      <th>TEY</th>\n",
              "      <th>CDP</th>\n",
              "      <th>CO</th>\n",
              "      <th>NOX</th>\n",
              "    </tr>\n",
              "  </thead>\n",
              "  <tbody>\n",
              "  </tbody>\n",
              "</table>\n",
              "</div>\n",
              "      <button class=\"colab-df-convert\" onclick=\"convertToInteractive('df-9ce73fda-ed7c-4891-b035-6358caec65b9')\"\n",
              "              title=\"Convert this dataframe to an interactive table.\"\n",
              "              style=\"display:none;\">\n",
              "        \n",
              "  <svg xmlns=\"http://www.w3.org/2000/svg\" height=\"24px\"viewBox=\"0 0 24 24\"\n",
              "       width=\"24px\">\n",
              "    <path d=\"M0 0h24v24H0V0z\" fill=\"none\"/>\n",
              "    <path d=\"M18.56 5.44l.94 2.06.94-2.06 2.06-.94-2.06-.94-.94-2.06-.94 2.06-2.06.94zm-11 1L8.5 8.5l.94-2.06 2.06-.94-2.06-.94L8.5 2.5l-.94 2.06-2.06.94zm10 10l.94 2.06.94-2.06 2.06-.94-2.06-.94-.94-2.06-.94 2.06-2.06.94z\"/><path d=\"M17.41 7.96l-1.37-1.37c-.4-.4-.92-.59-1.43-.59-.52 0-1.04.2-1.43.59L10.3 9.45l-7.72 7.72c-.78.78-.78 2.05 0 2.83L4 21.41c.39.39.9.59 1.41.59.51 0 1.02-.2 1.41-.59l7.78-7.78 2.81-2.81c.8-.78.8-2.07 0-2.86zM5.41 20L4 18.59l7.72-7.72 1.47 1.35L5.41 20z\"/>\n",
              "  </svg>\n",
              "      </button>\n",
              "      \n",
              "  <style>\n",
              "    .colab-df-container {\n",
              "      display:flex;\n",
              "      flex-wrap:wrap;\n",
              "      gap: 12px;\n",
              "    }\n",
              "\n",
              "    .colab-df-convert {\n",
              "      background-color: #E8F0FE;\n",
              "      border: none;\n",
              "      border-radius: 50%;\n",
              "      cursor: pointer;\n",
              "      display: none;\n",
              "      fill: #1967D2;\n",
              "      height: 32px;\n",
              "      padding: 0 0 0 0;\n",
              "      width: 32px;\n",
              "    }\n",
              "\n",
              "    .colab-df-convert:hover {\n",
              "      background-color: #E2EBFA;\n",
              "      box-shadow: 0px 1px 2px rgba(60, 64, 67, 0.3), 0px 1px 3px 1px rgba(60, 64, 67, 0.15);\n",
              "      fill: #174EA6;\n",
              "    }\n",
              "\n",
              "    [theme=dark] .colab-df-convert {\n",
              "      background-color: #3B4455;\n",
              "      fill: #D2E3FC;\n",
              "    }\n",
              "\n",
              "    [theme=dark] .colab-df-convert:hover {\n",
              "      background-color: #434B5C;\n",
              "      box-shadow: 0px 1px 3px 1px rgba(0, 0, 0, 0.15);\n",
              "      filter: drop-shadow(0px 1px 2px rgba(0, 0, 0, 0.3));\n",
              "      fill: #FFFFFF;\n",
              "    }\n",
              "  </style>\n",
              "\n",
              "      <script>\n",
              "        const buttonEl =\n",
              "          document.querySelector('#df-9ce73fda-ed7c-4891-b035-6358caec65b9 button.colab-df-convert');\n",
              "        buttonEl.style.display =\n",
              "          google.colab.kernel.accessAllowed ? 'block' : 'none';\n",
              "\n",
              "        async function convertToInteractive(key) {\n",
              "          const element = document.querySelector('#df-9ce73fda-ed7c-4891-b035-6358caec65b9');\n",
              "          const dataTable =\n",
              "            await google.colab.kernel.invokeFunction('convertToInteractive',\n",
              "                                                     [key], {});\n",
              "          if (!dataTable) return;\n",
              "\n",
              "          const docLinkHtml = 'Like what you see? Visit the ' +\n",
              "            '<a target=\"_blank\" href=https://colab.research.google.com/notebooks/data_table.ipynb>data table notebook</a>'\n",
              "            + ' to learn more about interactive tables.';\n",
              "          element.innerHTML = '';\n",
              "          dataTable['output_type'] = 'display_data';\n",
              "          await google.colab.output.renderOutput(dataTable, element);\n",
              "          const docLink = document.createElement('div');\n",
              "          docLink.innerHTML = docLinkHtml;\n",
              "          element.appendChild(docLink);\n",
              "        }\n",
              "      </script>\n",
              "    </div>\n",
              "  </div>\n",
              "  "
            ]
          },
          "metadata": {},
          "execution_count": 10
        }
      ],
      "source": [
        "gt[duplicate]"
      ]
    },
    {
      "cell_type": "code",
      "execution_count": null,
      "id": "f9594ac8",
      "metadata": {
        "colab": {
          "base_uri": "https://localhost:8080/",
          "height": 351
        },
        "id": "f9594ac8",
        "outputId": "1858ab5e-8b5a-4823-94ec-0651bc4b08a4"
      },
      "outputs": [
        {
          "output_type": "stream",
          "name": "stderr",
          "text": [
            "/usr/local/lib/python3.8/dist-packages/seaborn/_decorators.py:36: FutureWarning: Pass the following variable as a keyword arg: x. From version 0.12, the only valid positional argument will be `data`, and passing other arguments without an explicit keyword will result in an error or misinterpretation.\n",
            "  warnings.warn(\n"
          ]
        },
        {
          "output_type": "execute_result",
          "data": {
            "text/plain": [
              "<AxesSubplot:xlabel='AT'>"
            ]
          },
          "metadata": {},
          "execution_count": 11
        },
        {
          "output_type": "display_data",
          "data": {
            "text/plain": [
              "<Figure size 432x288 with 1 Axes>"
            ],
            "image/png": "[encoded data removed]"
          },
          "metadata": {
            "needs_background": "light"
          }
        }
      ],
      "source": [
        "## Data Visualizations\n",
        "import matplotlib.pyplot as plt\n",
        "import seaborn as sns\n",
        "sns.boxplot(gt['AT'])"
      ]
    },
    {
      "cell_type": "code",
      "execution_count": null,
      "id": "c5431974",
      "metadata": {
        "colab": {
          "base_uri": "https://localhost:8080/",
          "height": 351
        },
        "id": "c5431974",
        "outputId": "82d3992d-fd82-4c6b-954d-d6c32e4fe091"
      },
      "outputs": [
        {
          "output_type": "stream",
          "name": "stderr",
          "text": [
            "/usr/local/lib/python3.8/dist-packages/seaborn/_decorators.py:36: FutureWarning: Pass the following variable as a keyword arg: x. From version 0.12, the only valid positional argument will be `data`, and passing other arguments without an explicit keyword will result in an error or misinterpretation.\n",
            "  warnings.warn(\n"
          ]
        },
        {
          "output_type": "execute_result",
          "data": {
            "text/plain": [
              "<AxesSubplot:xlabel='AP'>"
            ]
          },
          "metadata": {},
          "execution_count": 12
        },
        {
          "output_type": "display_data",
          "data": {
            "text/plain": [
              "<Figure size 432x288 with 1 Axes>"
            ],
            "image/png": "[encoded data removed]"
          },
          "metadata": {
            "needs_background": "light"
          }
        }
      ],
      "source": [
        "sns.boxplot(gt['AP'])"
      ]
    },
    {
      "cell_type": "code",
      "execution_count": null,
      "id": "e9372e73",
      "metadata": {
        "colab": {
          "base_uri": "https://localhost:8080/",
          "height": 351
        },
        "id": "e9372e73",
        "outputId": "869c585b-ca18-4dd6-ebf3-4b78ca6a20dc"
      },
      "outputs": [
        {
          "output_type": "stream",
          "name": "stderr",
          "text": [
            "/usr/local/lib/python3.8/dist-packages/seaborn/_decorators.py:36: FutureWarning: Pass the following variable as a keyword arg: x. From version 0.12, the only valid positional argument will be `data`, and passing other arguments without an explicit keyword will result in an error or misinterpretation.\n",
            "  warnings.warn(\n"
          ]
        },
        {
          "output_type": "execute_result",
          "data": {
            "text/plain": [
              "<AxesSubplot:xlabel='AH'>"
            ]
          },
          "metadata": {},
          "execution_count": 13
        },
        {
          "output_type": "display_data",
          "data": {
            "text/plain": [
              "<Figure size 432x288 with 1 Axes>"
            ],
            "image/png": "[encoded data removed]"
          },
          "metadata": {
            "needs_background": "light"
          }
        }
      ],
      "source": [
        "sns.boxplot(gt['AH'])"
      ]
    },
    {
      "cell_type": "code",
      "execution_count": null,
      "id": "2825a55f",
      "metadata": {
        "colab": {
          "base_uri": "https://localhost:8080/",
          "height": 282
        },
        "id": "2825a55f",
        "outputId": "09478689-9d82-4f25-8b43-a3b937dad899"
      },
      "outputs": [
        {
          "output_type": "execute_result",
          "data": {
            "text/plain": [
              "<AxesSubplot:>"
            ]
          },
          "metadata": {},
          "execution_count": 14
        },
        {
          "output_type": "display_data",
          "data": {
            "text/plain": [
              "<Figure size 432x288 with 1 Axes>"
            ],
            "image/png": "[encoded data removed]"
          },
          "metadata": {
            "needs_background": "light"
          }
        }
      ],
      "source": [
        "gt.AFDP.hist()"
      ]
    },
    {
      "cell_type": "code",
      "execution_count": null,
      "id": "eaa267bc",
      "metadata": {
        "colab": {
          "base_uri": "https://localhost:8080/",
          "height": 282
        },
        "id": "eaa267bc",
        "outputId": "5c3ce7be-4c5a-4936-bde9-bdf46509b426"
      },
      "outputs": [
        {
          "output_type": "execute_result",
          "data": {
            "text/plain": [
              "<AxesSubplot:>"
            ]
          },
          "metadata": {},
          "execution_count": 15
        },
        {
          "output_type": "display_data",
          "data": {
            "text/plain": [
              "<Figure size 432x288 with 1 Axes>"
            ],
            "image/png": "[encoded data removed]"
          },
          "metadata": {
            "needs_background": "light"
          }
        }
      ],
      "source": [
        "gt.GTEP.hist()"
      ]
    },
    {
      "cell_type": "code",
      "execution_count": null,
      "id": "e3890e16",
      "metadata": {
        "colab": {
          "base_uri": "https://localhost:8080/",
          "height": 282
        },
        "id": "e3890e16",
        "outputId": "fe4b1201-c5b1-4825-d78c-dc2bbb03ba23"
      },
      "outputs": [
        {
          "output_type": "execute_result",
          "data": {
            "text/plain": [
              "<AxesSubplot:>"
            ]
          },
          "metadata": {},
          "execution_count": 16
        },
        {
          "output_type": "display_data",
          "data": {
            "text/plain": [
              "<Figure size 432x288 with 1 Axes>"
            ],
            "image/png": "[encoded data removed]"
          },
          "metadata": {
            "needs_background": "light"
          }
        }
      ],
      "source": [
        "gt.TIT.hist()"
      ]
    },
    {
      "cell_type": "code",
      "execution_count": null,
      "id": "c2e49334",
      "metadata": {
        "colab": {
          "base_uri": "https://localhost:8080/",
          "height": 282
        },
        "id": "c2e49334",
        "outputId": "5f544365-1183-48c6-9b23-44956720d9c1"
      },
      "outputs": [
        {
          "output_type": "execute_result",
          "data": {
            "text/plain": [
              "<AxesSubplot:>"
            ]
          },
          "metadata": {},
          "execution_count": 17
        },
        {
          "output_type": "display_data",
          "data": {
            "text/plain": [
              "<Figure size 432x288 with 1 Axes>"
            ],
            "image/png": "[encoded data removed]"
          },
          "metadata": {
            "needs_background": "light"
          }
        }
      ],
      "source": [
        "gt.TAT.hist()"
      ]
    },
    {
      "cell_type": "code",
      "execution_count": null,
      "id": "dbb6fa11",
      "metadata": {
        "colab": {
          "base_uri": "https://localhost:8080/",
          "height": 282
        },
        "id": "dbb6fa11",
        "outputId": "16815856-ce11-4843-e6eb-029dd231d6cb"
      },
      "outputs": [
        {
          "output_type": "execute_result",
          "data": {
            "text/plain": [
              "<AxesSubplot:>"
            ]
          },
          "metadata": {},
          "execution_count": 18
        },
        {
          "output_type": "display_data",
          "data": {
            "text/plain": [
              "<Figure size 432x288 with 1 Axes>"
            ],
            "image/png": "[encoded data removed]"
          },
          "metadata": {
            "needs_background": "light"
          }
        }
      ],
      "source": [
        "gt[\"TEY\"].hist()"
      ]
    },
    {
      "cell_type": "code",
      "execution_count": null,
      "id": "ce9e141c",
      "metadata": {
        "colab": {
          "base_uri": "https://localhost:8080/",
          "height": 282
        },
        "id": "ce9e141c",
        "outputId": "3be40a95-b226-4233-dac8-192cf0fc2385"
      },
      "outputs": [
        {
          "output_type": "execute_result",
          "data": {
            "text/plain": [
              "<AxesSubplot:>"
            ]
          },
          "metadata": {},
          "execution_count": 19
        },
        {
          "output_type": "display_data",
          "data": {
            "text/plain": [
              "<Figure size 432x288 with 1 Axes>"
            ],
            "image/png": "[encoded data removed]"
          },
          "metadata": {
            "needs_background": "light"
          }
        }
      ],
      "source": [
        "gt['CDP'].hist()"
      ]
    },
    {
      "cell_type": "code",
      "execution_count": null,
      "id": "c97aa484",
      "metadata": {
        "colab": {
          "base_uri": "https://localhost:8080/",
          "height": 282
        },
        "id": "c97aa484",
        "outputId": "4aae6da4-a400-4eec-882c-ab8a9d6be57f"
      },
      "outputs": [
        {
          "output_type": "execute_result",
          "data": {
            "text/plain": [
              "<AxesSubplot:>"
            ]
          },
          "metadata": {},
          "execution_count": 20
        },
        {
          "output_type": "display_data",
          "data": {
            "text/plain": [
              "<Figure size 432x288 with 1 Axes>"
            ],
            "image/png": "[encoded data removed]"
          },
          "metadata": {
            "needs_background": "light"
          }
        }
      ],
      "source": [
        "gt['CO'].hist()"
      ]
    },
    {
      "cell_type": "code",
      "execution_count": null,
      "id": "810c080f",
      "metadata": {
        "colab": {
          "base_uri": "https://localhost:8080/",
          "height": 282
        },
        "id": "810c080f",
        "outputId": "3fecc8e5-b30c-45db-d1e8-99a1007fdce6"
      },
      "outputs": [
        {
          "output_type": "execute_result",
          "data": {
            "text/plain": [
              "<AxesSubplot:>"
            ]
          },
          "metadata": {},
          "execution_count": 21
        },
        {
          "output_type": "display_data",
          "data": {
            "text/plain": [
              "<Figure size 432x288 with 1 Axes>"
            ],
            "image/png": "[encoded data removed]"
          },
          "metadata": {
            "needs_background": "light"
          }
        }
      ],
      "source": [
        "gt.NOX.hist()"
      ]
    },
    {
      "cell_type": "code",
      "execution_count": null,
      "id": "c9725ce6",
      "metadata": {
        "colab": {
          "base_uri": "https://localhost:8080/",
          "height": 438
        },
        "id": "c9725ce6",
        "outputId": "5c353ef7-13ff-4b33-c7fe-3270893840e7"
      },
      "outputs": [
        {
          "output_type": "execute_result",
          "data": {
            "text/plain": [
              "            AT        AP        AH      AFDP      GTEP       TIT       TAT  \\\n",
              "AT    1.000000 -0.412953 -0.549432 -0.099333 -0.049103  0.093067  0.338569   \n",
              "AP   -0.412953  1.000000  0.042573  0.040318  0.078575  0.029650 -0.223479   \n",
              "AH   -0.549432  0.042573  1.000000 -0.119249 -0.202784 -0.247781  0.010859   \n",
              "AFDP -0.099333  0.040318 -0.119249  1.000000  0.744251  0.627254 -0.571541   \n",
              "GTEP -0.049103  0.078575 -0.202784  0.744251  1.000000  0.874526 -0.756884   \n",
              "TIT   0.093067  0.029650 -0.247781  0.627254  0.874526  1.000000 -0.357320   \n",
              "TAT   0.338569 -0.223479  0.010859 -0.571541 -0.756884 -0.357320  1.000000   \n",
              "TEY  -0.207495  0.146939 -0.110272  0.717995  0.977042  0.891587 -0.720356   \n",
              "CDP  -0.100705  0.131198 -0.182010  0.727152  0.993784  0.887238 -0.744740   \n",
              "CO   -0.088588  0.041614  0.165505 -0.334207 -0.508259 -0.688272  0.063404   \n",
              "NOX  -0.600006  0.256744  0.143061 -0.037299 -0.208496 -0.231636  0.009888   \n",
              "\n",
              "           TEY       CDP        CO       NOX  \n",
              "AT   -0.207495 -0.100705 -0.088588 -0.600006  \n",
              "AP    0.146939  0.131198  0.041614  0.256744  \n",
              "AH   -0.110272 -0.182010  0.165505  0.143061  \n",
              "AFDP  0.717995  0.727152 -0.334207 -0.037299  \n",
              "GTEP  0.977042  0.993784 -0.508259 -0.208496  \n",
              "TIT   0.891587  0.887238 -0.688272 -0.231636  \n",
              "TAT  -0.720356 -0.744740  0.063404  0.009888  \n",
              "TEY   1.000000  0.988473 -0.541751 -0.102631  \n",
              "CDP   0.988473  1.000000 -0.520783 -0.169103  \n",
              "CO   -0.541751 -0.520783  1.000000  0.316743  \n",
              "NOX  -0.102631 -0.169103  0.316743  1.000000  "
            ],
            "text/html": [
              "\n",
              "  <div id=\"df-1b404446-ef47-46c6-96c3-50bf2d323a59\">\n",
              "    <div class=\"colab-df-container\">\n",
              "      <div>\n",
              "<style scoped>\n",
              "    .dataframe tbody tr th:only-of-type {\n",
              "        vertical-align: middle;\n",
              "    }\n",
              "\n",
              "    .dataframe tbody tr th {\n",
              "        vertical-align: top;\n",
              "    }\n",
              "\n",
              "    .dataframe thead th {\n",
              "        text-align: right;\n",
              "    }\n",
              "</style>\n",
              "<table border=\"1\" class=\"dataframe\">\n",
              "  <thead>\n",
              "    <tr style=\"text-align: right;\">\n",
              "      <th></th>\n",
              "      <th>AT</th>\n",
              "      <th>AP</th>\n",
              "      <th>AH</th>\n",
              "      <th>AFDP</th>\n",
              "      <th>GTEP</th>\n",
              "      <th>TIT</th>\n",
              "      <th>TAT</th>\n",
              "      <th>TEY</th>\n",
              "      <th>CDP</th>\n",
              "      <th>CO</th>\n",
              "      <th>NOX</th>\n",
              "    </tr>\n",
              "  </thead>\n",
              "  <tbody>\n",
              "    <tr>\n",
              "      <th>AT</th>\n",
              "      <td>1.000000</td>\n",
              "      <td>-0.412953</td>\n",
              "      <td>-0.549432</td>\n",
              "      <td>-0.099333</td>\n",
              "      <td>-0.049103</td>\n",
              "      <td>0.093067</td>\n",
              "      <td>0.338569</td>\n",
              "      <td>-0.207495</td>\n",
              "      <td>-0.100705</td>\n",
              "      <td>-0.088588</td>\n",
              "      <td>-0.600006</td>\n",
              "    </tr>\n",
              "    <tr>\n",
              "      <th>AP</th>\n",
              "      <td>-0.412953</td>\n",
              "      <td>1.000000</td>\n",
              "      <td>0.042573</td>\n",
              "      <td>0.040318</td>\n",
              "      <td>0.078575</td>\n",
              "      <td>0.029650</td>\n",
              "      <td>-0.223479</td>\n",
              "      <td>0.146939</td>\n",
              "      <td>0.131198</td>\n",
              "      <td>0.041614</td>\n",
              "      <td>0.256744</td>\n",
              "    </tr>\n",
              "    <tr>\n",
              "      <th>AH</th>\n",
              "      <td>-0.549432</td>\n",
              "      <td>0.042573</td>\n",
              "      <td>1.000000</td>\n",
              "      <td>-0.119249</td>\n",
              "      <td>-0.202784</td>\n",
              "      <td>-0.247781</td>\n",
              "      <td>0.010859</td>\n",
              "      <td>-0.110272</td>\n",
              "      <td>-0.182010</td>\n",
              "      <td>0.165505</td>\n",
              "      <td>0.143061</td>\n",
              "    </tr>\n",
              "    <tr>\n",
              "      <th>AFDP</th>\n",
              "      <td>-0.099333</td>\n",
              "      <td>0.040318</td>\n",
              "      <td>-0.119249</td>\n",
              "      <td>1.000000</td>\n",
              "      <td>0.744251</td>\n",
              "      <td>0.627254</td>\n",
              "      <td>-0.571541</td>\n",
              "      <td>0.717995</td>\n",
              "      <td>0.727152</td>\n",
              "      <td>-0.334207</td>\n",
              "      <td>-0.037299</td>\n",
              "    </tr>\n",
              "    <tr>\n",
              "      <th>GTEP</th>\n",
              "      <td>-0.049103</td>\n",
              "      <td>0.078575</td>\n",
              "      <td>-0.202784</td>\n",
              "      <td>0.744251</td>\n",
              "      <td>1.000000</td>\n",
              "      <td>0.874526</td>\n",
              "      <td>-0.756884</td>\n",
              "      <td>0.977042</td>\n",
              "      <td>0.993784</td>\n",
              "      <td>-0.508259</td>\n",
              "      <td>-0.208496</td>\n",
              "    </tr>\n",
              "    <tr>\n",
              "      <th>TIT</th>\n",
              "      <td>0.093067</td>\n",
              "      <td>0.029650</td>\n",
              "      <td>-0.247781</td>\n",
              "      <td>0.627254</td>\n",
              "      <td>0.874526</td>\n",
              "      <td>1.000000</td>\n",
              "      <td>-0.357320</td>\n",
              "      <td>0.891587</td>\n",
              "      <td>0.887238</td>\n",
              "      <td>-0.688272</td>\n",
              "      <td>-0.231636</td>\n",
              "    </tr>\n",
              "    <tr>\n",
              "      <th>TAT</th>\n",
              "      <td>0.338569</td>\n",
              "      <td>-0.223479</td>\n",
              "      <td>0.010859</td>\n",
              "      <td>-0.571541</td>\n",
              "      <td>-0.756884</td>\n",
              "      <td>-0.357320</td>\n",
              "      <td>1.000000</td>\n",
              "      <td>-0.720356</td>\n",
              "      <td>-0.744740</td>\n",
              "      <td>0.063404</td>\n",
              "      <td>0.009888</td>\n",
              "    </tr>\n",
              "    <tr>\n",
              "      <th>TEY</th>\n",
              "      <td>-0.207495</td>\n",
              "      <td>0.146939</td>\n",
              "      <td>-0.110272</td>\n",
              "      <td>0.717995</td>\n",
              "      <td>0.977042</td>\n",
              "      <td>0.891587</td>\n",
              "      <td>-0.720356</td>\n",
              "      <td>1.000000</td>\n",
              "      <td>0.988473</td>\n",
              "      <td>-0.541751</td>\n",
              "      <td>-0.102631</td>\n",
              "    </tr>\n",
              "    <tr>\n",
              "      <th>CDP</th>\n",
              "      <td>-0.100705</td>\n",
              "      <td>0.131198</td>\n",
              "      <td>-0.182010</td>\n",
              "      <td>0.727152</td>\n",
              "      <td>0.993784</td>\n",
              "      <td>0.887238</td>\n",
              "      <td>-0.744740</td>\n",
              "      <td>0.988473</td>\n",
              "      <td>1.000000</td>\n",
              "      <td>-0.520783</td>\n",
              "      <td>-0.169103</td>\n",
              "    </tr>\n",
              "    <tr>\n",
              "      <th>CO</th>\n",
              "      <td>-0.088588</td>\n",
              "      <td>0.041614</td>\n",
              "      <td>0.165505</td>\n",
              "      <td>-0.334207</td>\n",
              "      <td>-0.508259</td>\n",
              "      <td>-0.688272</td>\n",
              "      <td>0.063404</td>\n",
              "      <td>-0.541751</td>\n",
              "      <td>-0.520783</td>\n",
              "      <td>1.000000</td>\n",
              "      <td>0.316743</td>\n",
              "    </tr>\n",
              "    <tr>\n",
              "      <th>NOX</th>\n",
              "      <td>-0.600006</td>\n",
              "      <td>0.256744</td>\n",
              "      <td>0.143061</td>\n",
              "      <td>-0.037299</td>\n",
              "      <td>-0.208496</td>\n",
              "      <td>-0.231636</td>\n",
              "      <td>0.009888</td>\n",
              "      <td>-0.102631</td>\n",
              "      <td>-0.169103</td>\n",
              "      <td>0.316743</td>\n",
              "      <td>1.000000</td>\n",
              "    </tr>\n",
              "  </tbody>\n",
              "</table>\n",
              "</div>\n",
              "      <button class=\"colab-df-convert\" onclick=\"convertToInteractive('df-1b404446-ef47-46c6-96c3-50bf2d323a59')\"\n",
              "              title=\"Convert this dataframe to an interactive table.\"\n",
              "              style=\"display:none;\">\n",
              "        \n",
              "  <svg xmlns=\"http://www.w3.org/2000/svg\" height=\"24px\"viewBox=\"0 0 24 24\"\n",
              "       width=\"24px\">\n",
              "    <path d=\"M0 0h24v24H0V0z\" fill=\"none\"/>\n",
              "    <path d=\"M18.56 5.44l.94 2.06.94-2.06 2.06-.94-2.06-.94-.94-2.06-.94 2.06-2.06.94zm-11 1L8.5 8.5l.94-2.06 2.06-.94-2.06-.94L8.5 2.5l-.94 2.06-2.06.94zm10 10l.94 2.06.94-2.06 2.06-.94-2.06-.94-.94-2.06-.94 2.06-2.06.94z\"/><path d=\"M17.41 7.96l-1.37-1.37c-.4-.4-.92-.59-1.43-.59-.52 0-1.04.2-1.43.59L10.3 9.45l-7.72 7.72c-.78.78-.78 2.05 0 2.83L4 21.41c.39.39.9.59 1.41.59.51 0 1.02-.2 1.41-.59l7.78-7.78 2.81-2.81c.8-.78.8-2.07 0-2.86zM5.41 20L4 18.59l7.72-7.72 1.47 1.35L5.41 20z\"/>\n",
              "  </svg>\n",
              "      </button>\n",
              "      \n",
              "  <style>\n",
              "    .colab-df-container {\n",
              "      display:flex;\n",
              "      flex-wrap:wrap;\n",
              "      gap: 12px;\n",
              "    }\n",
              "\n",
              "    .colab-df-convert {\n",
              "      background-color: #E8F0FE;\n",
              "      border: none;\n",
              "      border-radius: 50%;\n",
              "      cursor: pointer;\n",
              "      display: none;\n",
              "      fill: #1967D2;\n",
              "      height: 32px;\n",
              "      padding: 0 0 0 0;\n",
              "      width: 32px;\n",
              "    }\n",
              "\n",
              "    .colab-df-convert:hover {\n",
              "      background-color: #E2EBFA;\n",
              "      box-shadow: 0px 1px 2px rgba(60, 64, 67, 0.3), 0px 1px 3px 1px rgba(60, 64, 67, 0.15);\n",
              "      fill: #174EA6;\n",
              "    }\n",
              "\n",
              "    [theme=dark] .colab-df-convert {\n",
              "      background-color: #3B4455;\n",
              "      fill: #D2E3FC;\n",
              "    }\n",
              "\n",
              "    [theme=dark] .colab-df-convert:hover {\n",
              "      background-color: #434B5C;\n",
              "      box-shadow: 0px 1px 3px 1px rgba(0, 0, 0, 0.15);\n",
              "      filter: drop-shadow(0px 1px 2px rgba(0, 0, 0, 0.3));\n",
              "      fill: #FFFFFF;\n",
              "    }\n",
              "  </style>\n",
              "\n",
              "      <script>\n",
              "        const buttonEl =\n",
              "          document.querySelector('#df-1b404446-ef47-46c6-96c3-50bf2d323a59 button.colab-df-convert');\n",
              "        buttonEl.style.display =\n",
              "          google.colab.kernel.accessAllowed ? 'block' : 'none';\n",
              "\n",
              "        async function convertToInteractive(key) {\n",
              "          const element = document.querySelector('#df-1b404446-ef47-46c6-96c3-50bf2d323a59');\n",
              "          const dataTable =\n",
              "            await google.colab.kernel.invokeFunction('convertToInteractive',\n",
              "                                                     [key], {});\n",
              "          if (!dataTable) return;\n",
              "\n",
              "          const docLinkHtml = 'Like what you see? Visit the ' +\n",
              "            '<a target=\"_blank\" href=https://colab.research.google.com/notebooks/data_table.ipynb>data table notebook</a>'\n",
              "            + ' to learn more about interactive tables.';\n",
              "          element.innerHTML = '';\n",
              "          dataTable['output_type'] = 'display_data';\n",
              "          await google.colab.output.renderOutput(dataTable, element);\n",
              "          const docLink = document.createElement('div');\n",
              "          docLink.innerHTML = docLinkHtml;\n",
              "          element.appendChild(docLink);\n",
              "        }\n",
              "      </script>\n",
              "    </div>\n",
              "  </div>\n",
              "  "
            ]
          },
          "metadata": {},
          "execution_count": 22
        }
      ],
      "source": [
        "## Correlation between variables\n",
        "corr=gt.corr()\n",
        "corr"
      ]
    },
    {
      "cell_type": "code",
      "source": [
        "plt.figure(figsize=(10,10))\n",
        "sns.heatmap(corr,annot=True)"
      ],
      "metadata": {
        "colab": {
          "base_uri": "https://localhost:8080/",
          "height": 612
        },
        "id": "ikuVxQLiD5PL",
        "outputId": "b51ec604-9c7a-44ce-b716-8e0621b29bc0"
      },
      "id": "ikuVxQLiD5PL",
      "execution_count": null,
      "outputs": [
        {
          "output_type": "execute_result",
          "data": {
            "text/plain": [
              "<AxesSubplot:>"
            ]
          },
          "metadata": {},
          "execution_count": 23
        },
        {
          "output_type": "display_data",
          "data": {
            "text/plain": [
              "<Figure size 720x720 with 2 Axes>"
            ],
            "image/png": "[encoded data removed]"
          },
          "metadata": {
            "needs_background": "light"
          }
        }
      ]
    },
    {
      "cell_type": "code",
      "source": [
        "## As per above results , we can see TEY has strong positive correlation with CDP, TIT,GTEP,AFDP and negative correlation with TAT variables"
      ],
      "metadata": {
        "id": "sY1LV1Y9D5gy"
      },
      "id": "sY1LV1Y9D5gy",
      "execution_count": null,
      "outputs": []
    },
    {
      "cell_type": "code",
      "execution_count": null,
      "id": "1f050389",
      "metadata": {
        "id": "1f050389"
      },
      "outputs": [],
      "source": [
        "# Split the dataset into X, Y variables \n",
        "X = gt.loc[:,['AT', 'AP', 'AH', 'AFDP', 'GTEP', 'TIT', 'TAT', 'CDP', 'CO','NOX']]\n",
        "Y= gt.loc[:,['TEY']]"
      ]
    },
    {
      "cell_type": "code",
      "execution_count": null,
      "id": "29573b01",
      "metadata": {
        "colab": {
          "base_uri": "https://localhost:8080/",
          "height": 424
        },
        "id": "29573b01",
        "outputId": "e80b045b-e96e-4aa3-ca00-acb443a75059"
      },
      "outputs": [
        {
          "output_type": "execute_result",
          "data": {
            "text/plain": [
              "           AT      AP      AH    AFDP    GTEP     TIT     TAT     CDP      CO  \\\n",
              "0      6.8594  1007.9  96.799  3.5000  19.663  1059.2  550.00  10.605  3.1547   \n",
              "1      6.7850  1008.4  97.118  3.4998  19.728  1059.3  550.00  10.598  3.2363   \n",
              "2      6.8977  1008.8  95.939  3.4824  19.779  1059.4  549.87  10.601  3.2012   \n",
              "3      7.0569  1009.2  95.249  3.4805  19.792  1059.6  549.99  10.606  3.1923   \n",
              "4      7.3978  1009.7  95.150  3.4976  19.765  1059.7  549.98  10.612  3.2484   \n",
              "...       ...     ...     ...     ...     ...     ...     ...     ...     ...   \n",
              "15034  9.0301  1005.6  98.460  3.5421  19.164  1049.7  546.21  10.400  4.5186   \n",
              "15035  7.8879  1005.9  99.093  3.5059  19.414  1046.3  543.22  10.433  4.8470   \n",
              "15036  7.2647  1006.3  99.496  3.4770  19.530  1037.7  537.32  10.483  7.9632   \n",
              "15037  7.0060  1006.8  99.008  3.4486  19.377  1043.2  541.24  10.533  6.2494   \n",
              "15038  6.9279  1007.2  97.533  3.4275  19.306  1049.9  545.85  10.583  4.9816   \n",
              "\n",
              "          NOX  \n",
              "0      82.722  \n",
              "1      82.776  \n",
              "2      82.468  \n",
              "3      82.670  \n",
              "4      82.311  \n",
              "...       ...  \n",
              "15034  79.559  \n",
              "15035  79.917  \n",
              "15036  90.912  \n",
              "15037  93.227  \n",
              "15038  92.498  \n",
              "\n",
              "[15039 rows x 10 columns]"
            ],
            "text/html": [
              "\n",
              "  <div id=\"df-e9b42ad8-8491-4478-a764-c436ad895f9d\">\n",
              "    <div class=\"colab-df-container\">\n",
              "      <div>\n",
              "<style scoped>\n",
              "    .dataframe tbody tr th:only-of-type {\n",
              "        vertical-align: middle;\n",
              "    }\n",
              "\n",
              "    .dataframe tbody tr th {\n",
              "        vertical-align: top;\n",
              "    }\n",
              "\n",
              "    .dataframe thead th {\n",
              "        text-align: right;\n",
              "    }\n",
              "</style>\n",
              "<table border=\"1\" class=\"dataframe\">\n",
              "  <thead>\n",
              "    <tr style=\"text-align: right;\">\n",
              "      <th></th>\n",
              "      <th>AT</th>\n",
              "      <th>AP</th>\n",
              "      <th>AH</th>\n",
              "      <th>AFDP</th>\n",
              "      <th>GTEP</th>\n",
              "      <th>TIT</th>\n",
              "      <th>TAT</th>\n",
              "      <th>CDP</th>\n",
              "      <th>CO</th>\n",
              "      <th>NOX</th>\n",
              "    </tr>\n",
              "  </thead>\n",
              "  <tbody>\n",
              "    <tr>\n",
              "      <th>0</th>\n",
              "      <td>6.8594</td>\n",
              "      <td>1007.9</td>\n",
              "      <td>96.799</td>\n",
              "      <td>3.5000</td>\n",
              "      <td>19.663</td>\n",
              "      <td>1059.2</td>\n",
              "      <td>550.00</td>\n",
              "      <td>10.605</td>\n",
              "      <td>3.1547</td>\n",
              "      <td>82.722</td>\n",
              "    </tr>\n",
              "    <tr>\n",
              "      <th>1</th>\n",
              "      <td>6.7850</td>\n",
              "      <td>1008.4</td>\n",
              "      <td>97.118</td>\n",
              "      <td>3.4998</td>\n",
              "      <td>19.728</td>\n",
              "      <td>1059.3</td>\n",
              "      <td>550.00</td>\n",
              "      <td>10.598</td>\n",
              "      <td>3.2363</td>\n",
              "      <td>82.776</td>\n",
              "    </tr>\n",
              "    <tr>\n",
              "      <th>2</th>\n",
              "      <td>6.8977</td>\n",
              "      <td>1008.8</td>\n",
              "      <td>95.939</td>\n",
              "      <td>3.4824</td>\n",
              "      <td>19.779</td>\n",
              "      <td>1059.4</td>\n",
              "      <td>549.87</td>\n",
              "      <td>10.601</td>\n",
              "      <td>3.2012</td>\n",
              "      <td>82.468</td>\n",
              "    </tr>\n",
              "    <tr>\n",
              "      <th>3</th>\n",
              "      <td>7.0569</td>\n",
              "      <td>1009.2</td>\n",
              "      <td>95.249</td>\n",
              "      <td>3.4805</td>\n",
              "      <td>19.792</td>\n",
              "      <td>1059.6</td>\n",
              "      <td>549.99</td>\n",
              "      <td>10.606</td>\n",
              "      <td>3.1923</td>\n",
              "      <td>82.670</td>\n",
              "    </tr>\n",
              "    <tr>\n",
              "      <th>4</th>\n",
              "      <td>7.3978</td>\n",
              "      <td>1009.7</td>\n",
              "      <td>95.150</td>\n",
              "      <td>3.4976</td>\n",
              "      <td>19.765</td>\n",
              "      <td>1059.7</td>\n",
              "      <td>549.98</td>\n",
              "      <td>10.612</td>\n",
              "      <td>3.2484</td>\n",
              "      <td>82.311</td>\n",
              "    </tr>\n",
              "    <tr>\n",
              "      <th>...</th>\n",
              "      <td>...</td>\n",
              "      <td>...</td>\n",
              "      <td>...</td>\n",
              "      <td>...</td>\n",
              "      <td>...</td>\n",
              "      <td>...</td>\n",
              "      <td>...</td>\n",
              "      <td>...</td>\n",
              "      <td>...</td>\n",
              "      <td>...</td>\n",
              "    </tr>\n",
              "    <tr>\n",
              "      <th>15034</th>\n",
              "      <td>9.0301</td>\n",
              "      <td>1005.6</td>\n",
              "      <td>98.460</td>\n",
              "      <td>3.5421</td>\n",
              "      <td>19.164</td>\n",
              "      <td>1049.7</td>\n",
              "      <td>546.21</td>\n",
              "      <td>10.400</td>\n",
              "      <td>4.5186</td>\n",
              "      <td>79.559</td>\n",
              "    </tr>\n",
              "    <tr>\n",
              "      <th>15035</th>\n",
              "      <td>7.8879</td>\n",
              "      <td>1005.9</td>\n",
              "      <td>99.093</td>\n",
              "      <td>3.5059</td>\n",
              "      <td>19.414</td>\n",
              "      <td>1046.3</td>\n",
              "      <td>543.22</td>\n",
              "      <td>10.433</td>\n",
              "      <td>4.8470</td>\n",
              "      <td>79.917</td>\n",
              "    </tr>\n",
              "    <tr>\n",
              "      <th>15036</th>\n",
              "      <td>7.2647</td>\n",
              "      <td>1006.3</td>\n",
              "      <td>99.496</td>\n",
              "      <td>3.4770</td>\n",
              "      <td>19.530</td>\n",
              "      <td>1037.7</td>\n",
              "      <td>537.32</td>\n",
              "      <td>10.483</td>\n",
              "      <td>7.9632</td>\n",
              "      <td>90.912</td>\n",
              "    </tr>\n",
              "    <tr>\n",
              "      <th>15037</th>\n",
              "      <td>7.0060</td>\n",
              "      <td>1006.8</td>\n",
              "      <td>99.008</td>\n",
              "      <td>3.4486</td>\n",
              "      <td>19.377</td>\n",
              "      <td>1043.2</td>\n",
              "      <td>541.24</td>\n",
              "      <td>10.533</td>\n",
              "      <td>6.2494</td>\n",
              "      <td>93.227</td>\n",
              "    </tr>\n",
              "    <tr>\n",
              "      <th>15038</th>\n",
              "      <td>6.9279</td>\n",
              "      <td>1007.2</td>\n",
              "      <td>97.533</td>\n",
              "      <td>3.4275</td>\n",
              "      <td>19.306</td>\n",
              "      <td>1049.9</td>\n",
              "      <td>545.85</td>\n",
              "      <td>10.583</td>\n",
              "      <td>4.9816</td>\n",
              "      <td>92.498</td>\n",
              "    </tr>\n",
              "  </tbody>\n",
              "</table>\n",
              "<p>15039 rows × 10 columns</p>\n",
              "</div>\n",
              "      <button class=\"colab-df-convert\" onclick=\"convertToInteractive('df-e9b42ad8-8491-4478-a764-c436ad895f9d')\"\n",
              "              title=\"Convert this dataframe to an interactive table.\"\n",
              "              style=\"display:none;\">\n",
              "        \n",
              "  <svg xmlns=\"http://www.w3.org/2000/svg\" height=\"24px\"viewBox=\"0 0 24 24\"\n",
              "       width=\"24px\">\n",
              "    <path d=\"M0 0h24v24H0V0z\" fill=\"none\"/>\n",
              "    <path d=\"M18.56 5.44l.94 2.06.94-2.06 2.06-.94-2.06-.94-.94-2.06-.94 2.06-2.06.94zm-11 1L8.5 8.5l.94-2.06 2.06-.94-2.06-.94L8.5 2.5l-.94 2.06-2.06.94zm10 10l.94 2.06.94-2.06 2.06-.94-2.06-.94-.94-2.06-.94 2.06-2.06.94z\"/><path d=\"M17.41 7.96l-1.37-1.37c-.4-.4-.92-.59-1.43-.59-.52 0-1.04.2-1.43.59L10.3 9.45l-7.72 7.72c-.78.78-.78 2.05 0 2.83L4 21.41c.39.39.9.59 1.41.59.51 0 1.02-.2 1.41-.59l7.78-7.78 2.81-2.81c.8-.78.8-2.07 0-2.86zM5.41 20L4 18.59l7.72-7.72 1.47 1.35L5.41 20z\"/>\n",
              "  </svg>\n",
              "      </button>\n",
              "      \n",
              "  <style>\n",
              "    .colab-df-container {\n",
              "      display:flex;\n",
              "      flex-wrap:wrap;\n",
              "      gap: 12px;\n",
              "    }\n",
              "\n",
              "    .colab-df-convert {\n",
              "      background-color: #E8F0FE;\n",
              "      border: none;\n",
              "      border-radius: 50%;\n",
              "      cursor: pointer;\n",
              "      display: none;\n",
              "      fill: #1967D2;\n",
              "      height: 32px;\n",
              "      padding: 0 0 0 0;\n",
              "      width: 32px;\n",
              "    }\n",
              "\n",
              "    .colab-df-convert:hover {\n",
              "      background-color: #E2EBFA;\n",
              "      box-shadow: 0px 1px 2px rgba(60, 64, 67, 0.3), 0px 1px 3px 1px rgba(60, 64, 67, 0.15);\n",
              "      fill: #174EA6;\n",
              "    }\n",
              "\n",
              "    [theme=dark] .colab-df-convert {\n",
              "      background-color: #3B4455;\n",
              "      fill: #D2E3FC;\n",
              "    }\n",
              "\n",
              "    [theme=dark] .colab-df-convert:hover {\n",
              "      background-color: #434B5C;\n",
              "      box-shadow: 0px 1px 3px 1px rgba(0, 0, 0, 0.15);\n",
              "      filter: drop-shadow(0px 1px 2px rgba(0, 0, 0, 0.3));\n",
              "      fill: #FFFFFF;\n",
              "    }\n",
              "  </style>\n",
              "\n",
              "      <script>\n",
              "        const buttonEl =\n",
              "          document.querySelector('#df-e9b42ad8-8491-4478-a764-c436ad895f9d button.colab-df-convert');\n",
              "        buttonEl.style.display =\n",
              "          google.colab.kernel.accessAllowed ? 'block' : 'none';\n",
              "\n",
              "        async function convertToInteractive(key) {\n",
              "          const element = document.querySelector('#df-e9b42ad8-8491-4478-a764-c436ad895f9d');\n",
              "          const dataTable =\n",
              "            await google.colab.kernel.invokeFunction('convertToInteractive',\n",
              "                                                     [key], {});\n",
              "          if (!dataTable) return;\n",
              "\n",
              "          const docLinkHtml = 'Like what you see? Visit the ' +\n",
              "            '<a target=\"_blank\" href=https://colab.research.google.com/notebooks/data_table.ipynb>data table notebook</a>'\n",
              "            + ' to learn more about interactive tables.';\n",
              "          element.innerHTML = '';\n",
              "          dataTable['output_type'] = 'display_data';\n",
              "          await google.colab.output.renderOutput(dataTable, element);\n",
              "          const docLink = document.createElement('div');\n",
              "          docLink.innerHTML = docLinkHtml;\n",
              "          element.appendChild(docLink);\n",
              "        }\n",
              "      </script>\n",
              "    </div>\n",
              "  </div>\n",
              "  "
            ]
          },
          "metadata": {},
          "execution_count": 25
        }
      ],
      "source": [
        "X"
      ]
    },
    {
      "cell_type": "code",
      "execution_count": null,
      "id": "5e3867e6",
      "metadata": {
        "colab": {
          "base_uri": "https://localhost:8080/",
          "height": 424
        },
        "id": "5e3867e6",
        "outputId": "ba01d5fe-4251-40a1-f16b-8f1878d8d3df"
      },
      "outputs": [
        {
          "output_type": "execute_result",
          "data": {
            "text/plain": [
              "          TEY\n",
              "0      114.70\n",
              "1      114.72\n",
              "2      114.71\n",
              "3      114.72\n",
              "4      114.72\n",
              "...       ...\n",
              "15034  111.61\n",
              "15035  111.78\n",
              "15036  110.19\n",
              "15037  110.74\n",
              "15038  111.58\n",
              "\n",
              "[15039 rows x 1 columns]"
            ],
            "text/html": [
              "\n",
              "  <div id=\"df-650d9ad2-c029-4a93-aca4-3bb173f795e5\">\n",
              "    <div class=\"colab-df-container\">\n",
              "      <div>\n",
              "<style scoped>\n",
              "    .dataframe tbody tr th:only-of-type {\n",
              "        vertical-align: middle;\n",
              "    }\n",
              "\n",
              "    .dataframe tbody tr th {\n",
              "        vertical-align: top;\n",
              "    }\n",
              "\n",
              "    .dataframe thead th {\n",
              "        text-align: right;\n",
              "    }\n",
              "</style>\n",
              "<table border=\"1\" class=\"dataframe\">\n",
              "  <thead>\n",
              "    <tr style=\"text-align: right;\">\n",
              "      <th></th>\n",
              "      <th>TEY</th>\n",
              "    </tr>\n",
              "  </thead>\n",
              "  <tbody>\n",
              "    <tr>\n",
              "      <th>0</th>\n",
              "      <td>114.70</td>\n",
              "    </tr>\n",
              "    <tr>\n",
              "      <th>1</th>\n",
              "      <td>114.72</td>\n",
              "    </tr>\n",
              "    <tr>\n",
              "      <th>2</th>\n",
              "      <td>114.71</td>\n",
              "    </tr>\n",
              "    <tr>\n",
              "      <th>3</th>\n",
              "      <td>114.72</td>\n",
              "    </tr>\n",
              "    <tr>\n",
              "      <th>4</th>\n",
              "      <td>114.72</td>\n",
              "    </tr>\n",
              "    <tr>\n",
              "      <th>...</th>\n",
              "      <td>...</td>\n",
              "    </tr>\n",
              "    <tr>\n",
              "      <th>15034</th>\n",
              "      <td>111.61</td>\n",
              "    </tr>\n",
              "    <tr>\n",
              "      <th>15035</th>\n",
              "      <td>111.78</td>\n",
              "    </tr>\n",
              "    <tr>\n",
              "      <th>15036</th>\n",
              "      <td>110.19</td>\n",
              "    </tr>\n",
              "    <tr>\n",
              "      <th>15037</th>\n",
              "      <td>110.74</td>\n",
              "    </tr>\n",
              "    <tr>\n",
              "      <th>15038</th>\n",
              "      <td>111.58</td>\n",
              "    </tr>\n",
              "  </tbody>\n",
              "</table>\n",
              "<p>15039 rows × 1 columns</p>\n",
              "</div>\n",
              "      <button class=\"colab-df-convert\" onclick=\"convertToInteractive('df-650d9ad2-c029-4a93-aca4-3bb173f795e5')\"\n",
              "              title=\"Convert this dataframe to an interactive table.\"\n",
              "              style=\"display:none;\">\n",
              "        \n",
              "  <svg xmlns=\"http://www.w3.org/2000/svg\" height=\"24px\"viewBox=\"0 0 24 24\"\n",
              "       width=\"24px\">\n",
              "    <path d=\"M0 0h24v24H0V0z\" fill=\"none\"/>\n",
              "    <path d=\"M18.56 5.44l.94 2.06.94-2.06 2.06-.94-2.06-.94-.94-2.06-.94 2.06-2.06.94zm-11 1L8.5 8.5l.94-2.06 2.06-.94-2.06-.94L8.5 2.5l-.94 2.06-2.06.94zm10 10l.94 2.06.94-2.06 2.06-.94-2.06-.94-.94-2.06-.94 2.06-2.06.94z\"/><path d=\"M17.41 7.96l-1.37-1.37c-.4-.4-.92-.59-1.43-.59-.52 0-1.04.2-1.43.59L10.3 9.45l-7.72 7.72c-.78.78-.78 2.05 0 2.83L4 21.41c.39.39.9.59 1.41.59.51 0 1.02-.2 1.41-.59l7.78-7.78 2.81-2.81c.8-.78.8-2.07 0-2.86zM5.41 20L4 18.59l7.72-7.72 1.47 1.35L5.41 20z\"/>\n",
              "  </svg>\n",
              "      </button>\n",
              "      \n",
              "  <style>\n",
              "    .colab-df-container {\n",
              "      display:flex;\n",
              "      flex-wrap:wrap;\n",
              "      gap: 12px;\n",
              "    }\n",
              "\n",
              "    .colab-df-convert {\n",
              "      background-color: #E8F0FE;\n",
              "      border: none;\n",
              "      border-radius: 50%;\n",
              "      cursor: pointer;\n",
              "      display: none;\n",
              "      fill: #1967D2;\n",
              "      height: 32px;\n",
              "      padding: 0 0 0 0;\n",
              "      width: 32px;\n",
              "    }\n",
              "\n",
              "    .colab-df-convert:hover {\n",
              "      background-color: #E2EBFA;\n",
              "      box-shadow: 0px 1px 2px rgba(60, 64, 67, 0.3), 0px 1px 3px 1px rgba(60, 64, 67, 0.15);\n",
              "      fill: #174EA6;\n",
              "    }\n",
              "\n",
              "    [theme=dark] .colab-df-convert {\n",
              "      background-color: #3B4455;\n",
              "      fill: #D2E3FC;\n",
              "    }\n",
              "\n",
              "    [theme=dark] .colab-df-convert:hover {\n",
              "      background-color: #434B5C;\n",
              "      box-shadow: 0px 1px 3px 1px rgba(0, 0, 0, 0.15);\n",
              "      filter: drop-shadow(0px 1px 2px rgba(0, 0, 0, 0.3));\n",
              "      fill: #FFFFFF;\n",
              "    }\n",
              "  </style>\n",
              "\n",
              "      <script>\n",
              "        const buttonEl =\n",
              "          document.querySelector('#df-650d9ad2-c029-4a93-aca4-3bb173f795e5 button.colab-df-convert');\n",
              "        buttonEl.style.display =\n",
              "          google.colab.kernel.accessAllowed ? 'block' : 'none';\n",
              "\n",
              "        async function convertToInteractive(key) {\n",
              "          const element = document.querySelector('#df-650d9ad2-c029-4a93-aca4-3bb173f795e5');\n",
              "          const dataTable =\n",
              "            await google.colab.kernel.invokeFunction('convertToInteractive',\n",
              "                                                     [key], {});\n",
              "          if (!dataTable) return;\n",
              "\n",
              "          const docLinkHtml = 'Like what you see? Visit the ' +\n",
              "            '<a target=\"_blank\" href=https://colab.research.google.com/notebooks/data_table.ipynb>data table notebook</a>'\n",
              "            + ' to learn more about interactive tables.';\n",
              "          element.innerHTML = '';\n",
              "          dataTable['output_type'] = 'display_data';\n",
              "          await google.colab.output.renderOutput(dataTable, element);\n",
              "          const docLink = document.createElement('div');\n",
              "          docLink.innerHTML = docLinkHtml;\n",
              "          element.appendChild(docLink);\n",
              "        }\n",
              "      </script>\n",
              "    </div>\n",
              "  </div>\n",
              "  "
            ]
          },
          "metadata": {},
          "execution_count": 26
        }
      ],
      "source": [
        "Y"
      ]
    },
    {
      "cell_type": "code",
      "execution_count": null,
      "id": "e37e6b5b",
      "metadata": {
        "id": "e37e6b5b"
      },
      "outputs": [],
      "source": [
        "# Standardization\n",
        "from sklearn.preprocessing import StandardScaler \n",
        "a = StandardScaler()\n",
        "a.fit(X)\n",
        "X_standardized = a.transform(X) \n",
        "a.fit(Y)\n",
        "y=a.transform(Y)"
      ]
    },
    {
      "cell_type": "code",
      "execution_count": null,
      "id": "e948f0a3",
      "metadata": {
        "colab": {
          "base_uri": "https://localhost:8080/"
        },
        "id": "e948f0a3",
        "outputId": "96d58a12-d776-4cd7-d251-43605ad9fb32"
      },
      "outputs": [
        {
          "output_type": "execute_result",
          "data": {
            "text/plain": [
              "array([[-1.4397781 , -0.82664395,  1.28143632, ..., -1.35733078,\n",
              "         0.53201195,  1.3878449 ],\n",
              "       [-1.44960109, -0.74864748,  1.30456402, ..., -1.36367619,\n",
              "         0.56873344,  1.39300237],\n",
              "       [-1.43472138, -0.68625031,  1.21908576, ..., -1.36095673,\n",
              "         0.5529378 ,  1.36358566],\n",
              "       ...,\n",
              "       [-1.38626659, -1.07623263,  1.47697056, ..., -1.46792219,\n",
              "         2.69592467,  2.17006209],\n",
              "       [-1.42042259, -0.99823616,  1.44159024, ..., -1.42259784,\n",
              "         1.9246834 ,  2.391165  ],\n",
              "       [-1.43073409, -0.93583899,  1.33465179, ..., -1.37727349,\n",
              "         1.35415028,  2.32153907]])"
            ]
          },
          "metadata": {},
          "execution_count": 28
        }
      ],
      "source": [
        "X_standardized"
      ]
    },
    {
      "cell_type": "code",
      "execution_count": null,
      "id": "2553b7fa",
      "metadata": {
        "colab": {
          "base_uri": "https://localhost:8080/"
        },
        "id": "2553b7fa",
        "outputId": "cbd52d8c-8ae4-4feb-8a38-f9d6ac9ed3c1"
      },
      "outputs": [
        {
          "output_type": "execute_result",
          "data": {
            "text/plain": [
              "array([[-1.23117246],\n",
              "       [-1.22990897],\n",
              "       [-1.23054071],\n",
              "       ...,\n",
              "       [-1.5160891 ],\n",
              "       [-1.48134317],\n",
              "       [-1.42827666]])"
            ]
          },
          "metadata": {},
          "execution_count": 29
        }
      ],
      "source": [
        "y"
      ]
    },
    {
      "cell_type": "code",
      "execution_count": null,
      "id": "8f37a44f",
      "metadata": {
        "id": "8f37a44f"
      },
      "outputs": [],
      "source": [
        "# Split the dataset into training and testing\n",
        "from sklearn.model_selection import train_test_split\n",
        "X_train, X_test, y_train, y_test = train_test_split(X_standardized, y, test_size=0.25)"
      ]
    },
    {
      "cell_type": "markdown",
      "source": [
        "Neural Network Model"
      ],
      "metadata": {
        "id": "SYcRxk4-SpM_"
      },
      "id": "SYcRxk4-SpM_"
    },
    {
      "cell_type": "code",
      "execution_count": null,
      "id": "81ce8f65",
      "metadata": {
        "id": "81ce8f65"
      },
      "outputs": [],
      "source": [
        "# define model\n",
        "model = Sequential()\n",
        "model.add(Dense(15, input_dim=10, activation='relu', kernel_initializer='he_uniform'))\n",
        "model.add(Dense(10, activation='relu'))\n",
        "model.add(Dense(1, activation='linear'))\n",
        "opt = SGD(learning_rate=0.01, momentum=0.9)"
      ]
    },
    {
      "cell_type": "code",
      "source": [
        "model.compile(loss='mean_absolute_error', optimizer=opt, metrics=['mse'])"
      ],
      "metadata": {
        "id": "pxUap7SZOpyu"
      },
      "id": "pxUap7SZOpyu",
      "execution_count": null,
      "outputs": []
    },
    {
      "cell_type": "code",
      "source": [
        "# fit model\n",
        "history = model.fit(X_train, y_train, validation_data=(X_test, y_test), epochs=100, batch_size=10)"
      ],
      "metadata": {
        "colab": {
          "base_uri": "https://localhost:8080/"
        },
        "id": "TII5LsnnOuXj",
        "outputId": "4189a649-44fc-46f9-c1df-3241db64a27f"
      },
      "id": "TII5LsnnOuXj",
      "execution_count": null,
      "outputs": [
        {
          "output_type": "stream",
          "name": "stdout",
          "text": [
            "Epoch 1/100\n",
            "1128/1128 [==============================] - 3s 3ms/step - loss: 0.0543 - mse: 0.0062 - val_loss: 0.0505 - val_mse: 0.0054\n",
            "Epoch 2/100\n",
            "1128/1128 [==============================] - 3s 3ms/step - loss: 0.0544 - mse: 0.0062 - val_loss: 0.0411 - val_mse: 0.0029\n",
            "Epoch 3/100\n",
            "1128/1128 [==============================] - 2s 2ms/step - loss: 0.0504 - mse: 0.0052 - val_loss: 0.0836 - val_mse: 0.0167\n",
            "Epoch 4/100\n",
            "1128/1128 [==============================] - 2s 2ms/step - loss: 0.0536 - mse: 0.0058 - val_loss: 0.0625 - val_mse: 0.0080\n",
            "Epoch 5/100\n",
            "1128/1128 [==============================] - 3s 3ms/step - loss: 0.0508 - mse: 0.0053 - val_loss: 0.0438 - val_mse: 0.0033\n",
            "Epoch 6/100\n",
            "1128/1128 [==============================] - 2s 2ms/step - loss: 0.0493 - mse: 0.0050 - val_loss: 0.0480 - val_mse: 0.0033\n",
            "Epoch 7/100\n",
            "1128/1128 [==============================] - 3s 2ms/step - loss: 0.0474 - mse: 0.0047 - val_loss: 0.0347 - val_mse: 0.0024\n",
            "Epoch 8/100\n",
            "1128/1128 [==============================] - 2s 2ms/step - loss: 0.0486 - mse: 0.0048 - val_loss: 0.0542 - val_mse: 0.0051\n",
            "Epoch 9/100\n",
            "1128/1128 [==============================] - 2s 2ms/step - loss: 0.0485 - mse: 0.0048 - val_loss: 0.0406 - val_mse: 0.0030\n",
            "Epoch 10/100\n",
            "1128/1128 [==============================] - 3s 3ms/step - loss: 0.0506 - mse: 0.0054 - val_loss: 0.0721 - val_mse: 0.0081\n",
            "Epoch 11/100\n",
            "1128/1128 [==============================] - 2s 2ms/step - loss: 0.0521 - mse: 0.0056 - val_loss: 0.0513 - val_mse: 0.0045\n",
            "Epoch 12/100\n",
            "1128/1128 [==============================] - 2s 2ms/step - loss: 0.0516 - mse: 0.0055 - val_loss: 0.0449 - val_mse: 0.0034\n",
            "Epoch 13/100\n",
            "1128/1128 [==============================] - 2s 2ms/step - loss: 0.0494 - mse: 0.0050 - val_loss: 0.0373 - val_mse: 0.0026\n",
            "Epoch 14/100\n",
            "1128/1128 [==============================] - 2s 2ms/step - loss: 0.0517 - mse: 0.0057 - val_loss: 0.0567 - val_mse: 0.0068\n",
            "Epoch 15/100\n",
            "1128/1128 [==============================] - 3s 3ms/step - loss: 0.0490 - mse: 0.0049 - val_loss: 0.0535 - val_mse: 0.0055\n",
            "Epoch 16/100\n",
            "1128/1128 [==============================] - 2s 2ms/step - loss: 0.0514 - mse: 0.0056 - val_loss: 0.0629 - val_mse: 0.0072\n",
            "Epoch 17/100\n",
            "1128/1128 [==============================] - 2s 2ms/step - loss: 0.0505 - mse: 0.0053 - val_loss: 0.0368 - val_mse: 0.0024\n",
            "Epoch 18/100\n",
            "1128/1128 [==============================] - 2s 2ms/step - loss: 0.0486 - mse: 0.0047 - val_loss: 0.0479 - val_mse: 0.0041\n",
            "Epoch 19/100\n",
            "1128/1128 [==============================] - 2s 2ms/step - loss: 0.0480 - mse: 0.0048 - val_loss: 0.0817 - val_mse: 0.0122\n",
            "Epoch 20/100\n",
            "1128/1128 [==============================] - 3s 3ms/step - loss: 0.0489 - mse: 0.0048 - val_loss: 0.0505 - val_mse: 0.0049\n",
            "Epoch 21/100\n",
            "1128/1128 [==============================] - 2s 2ms/step - loss: 0.0483 - mse: 0.0047 - val_loss: 0.0559 - val_mse: 0.0071\n",
            "Epoch 22/100\n",
            "1128/1128 [==============================] - 2s 2ms/step - loss: 0.0500 - mse: 0.0055 - val_loss: 0.0492 - val_mse: 0.0052\n",
            "Epoch 23/100\n",
            "1128/1128 [==============================] - 2s 2ms/step - loss: 0.0506 - mse: 0.0053 - val_loss: 0.0433 - val_mse: 0.0036\n",
            "Epoch 24/100\n",
            "1128/1128 [==============================] - 2s 2ms/step - loss: 0.0492 - mse: 0.0048 - val_loss: 0.0357 - val_mse: 0.0023\n",
            "Epoch 25/100\n",
            "1128/1128 [==============================] - 4s 3ms/step - loss: 0.0511 - mse: 0.0053 - val_loss: 0.0563 - val_mse: 0.0059\n",
            "Epoch 26/100\n",
            "1128/1128 [==============================] - 2s 2ms/step - loss: 0.0486 - mse: 0.0048 - val_loss: 0.0522 - val_mse: 0.0064\n",
            "Epoch 27/100\n",
            "1128/1128 [==============================] - 2s 2ms/step - loss: 0.0521 - mse: 0.0056 - val_loss: 0.0540 - val_mse: 0.0061\n",
            "Epoch 28/100\n",
            "1128/1128 [==============================] - 2s 2ms/step - loss: 0.0490 - mse: 0.0049 - val_loss: 0.0352 - val_mse: 0.0025\n",
            "Epoch 29/100\n",
            "1128/1128 [==============================] - 2s 2ms/step - loss: 0.0542 - mse: 0.0063 - val_loss: 0.0745 - val_mse: 0.0105\n",
            "Epoch 30/100\n",
            "1128/1128 [==============================] - 3s 3ms/step - loss: 0.0487 - mse: 0.0047 - val_loss: 0.0879 - val_mse: 0.0135\n",
            "Epoch 31/100\n",
            "1128/1128 [==============================] - 2s 2ms/step - loss: 0.0548 - mse: 0.0062 - val_loss: 0.0464 - val_mse: 0.0047\n",
            "Epoch 32/100\n",
            "1128/1128 [==============================] - 2s 2ms/step - loss: 0.0470 - mse: 0.0044 - val_loss: 0.0692 - val_mse: 0.0098\n",
            "Epoch 33/100\n",
            "1128/1128 [==============================] - 2s 2ms/step - loss: 0.0482 - mse: 0.0046 - val_loss: 0.0384 - val_mse: 0.0026\n",
            "Epoch 34/100\n",
            "1128/1128 [==============================] - 3s 3ms/step - loss: 0.0472 - mse: 0.0043 - val_loss: 0.0366 - val_mse: 0.0029\n",
            "Epoch 35/100\n",
            "1128/1128 [==============================] - 3s 2ms/step - loss: 0.0516 - mse: 0.0055 - val_loss: 0.0432 - val_mse: 0.0033\n",
            "Epoch 36/100\n",
            "1128/1128 [==============================] - 2s 2ms/step - loss: 0.0469 - mse: 0.0045 - val_loss: 0.0734 - val_mse: 0.0099\n",
            "Epoch 37/100\n",
            "1128/1128 [==============================] - 2s 2ms/step - loss: 0.0493 - mse: 0.0049 - val_loss: 0.0413 - val_mse: 0.0030\n",
            "Epoch 38/100\n",
            "1128/1128 [==============================] - 2s 2ms/step - loss: 0.0471 - mse: 0.0045 - val_loss: 0.0527 - val_mse: 0.0048\n",
            "Epoch 39/100\n",
            "1128/1128 [==============================] - 3s 3ms/step - loss: 0.0494 - mse: 0.0049 - val_loss: 0.0393 - val_mse: 0.0027\n",
            "Epoch 40/100\n",
            "1128/1128 [==============================] - 2s 2ms/step - loss: 0.0495 - mse: 0.0050 - val_loss: 0.0420 - val_mse: 0.0039\n",
            "Epoch 41/100\n",
            "1128/1128 [==============================] - 2s 2ms/step - loss: 0.0497 - mse: 0.0051 - val_loss: 0.0908 - val_mse: 0.0161\n",
            "Epoch 42/100\n",
            "1128/1128 [==============================] - 2s 2ms/step - loss: 0.0485 - mse: 0.0048 - val_loss: 0.0468 - val_mse: 0.0045\n",
            "Epoch 43/100\n",
            "1128/1128 [==============================] - 2s 2ms/step - loss: 0.0532 - mse: 0.0057 - val_loss: 0.0588 - val_mse: 0.0061\n",
            "Epoch 44/100\n",
            "1128/1128 [==============================] - 3s 3ms/step - loss: 0.0562 - mse: 0.0066 - val_loss: 0.0334 - val_mse: 0.0021\n",
            "Epoch 45/100\n",
            "1128/1128 [==============================] - 6s 5ms/step - loss: 0.0479 - mse: 0.0047 - val_loss: 0.0459 - val_mse: 0.0036\n",
            "Epoch 46/100\n",
            "1128/1128 [==============================] - 3s 3ms/step - loss: 0.0502 - mse: 0.0052 - val_loss: 0.0411 - val_mse: 0.0031\n",
            "Epoch 47/100\n",
            "1128/1128 [==============================] - 5s 5ms/step - loss: 0.0499 - mse: 0.0051 - val_loss: 0.0585 - val_mse: 0.0058\n",
            "Epoch 48/100\n",
            "1128/1128 [==============================] - 4s 4ms/step - loss: 0.0512 - mse: 0.0054 - val_loss: 0.0315 - val_mse: 0.0019\n",
            "Epoch 49/100\n",
            "1128/1128 [==============================] - 4s 3ms/step - loss: 0.0505 - mse: 0.0054 - val_loss: 0.0485 - val_mse: 0.0049\n",
            "Epoch 50/100\n",
            "1128/1128 [==============================] - 5s 4ms/step - loss: 0.0483 - mse: 0.0049 - val_loss: 0.0441 - val_mse: 0.0037\n",
            "Epoch 51/100\n",
            "1128/1128 [==============================] - 3s 2ms/step - loss: 0.0505 - mse: 0.0052 - val_loss: 0.1017 - val_mse: 0.0141\n",
            "Epoch 52/100\n",
            "1128/1128 [==============================] - 2s 2ms/step - loss: 0.0519 - mse: 0.0056 - val_loss: 0.0397 - val_mse: 0.0028\n",
            "Epoch 53/100\n",
            "1128/1128 [==============================] - 2s 2ms/step - loss: 0.0497 - mse: 0.0051 - val_loss: 0.0555 - val_mse: 0.0054\n",
            "Epoch 54/100\n",
            "1128/1128 [==============================] - 3s 3ms/step - loss: 0.0497 - mse: 0.0050 - val_loss: 0.0459 - val_mse: 0.0039\n",
            "Epoch 55/100\n",
            "1128/1128 [==============================] - 5s 4ms/step - loss: 0.0498 - mse: 0.0052 - val_loss: 0.0494 - val_mse: 0.0049\n",
            "Epoch 56/100\n",
            "1128/1128 [==============================] - 3s 3ms/step - loss: 0.0431 - mse: 0.0038 - val_loss: 0.0481 - val_mse: 0.0047\n",
            "Epoch 57/100\n",
            "1128/1128 [==============================] - 4s 3ms/step - loss: 0.0490 - mse: 0.0049 - val_loss: 0.0469 - val_mse: 0.0040\n",
            "Epoch 58/100\n",
            "1128/1128 [==============================] - 3s 3ms/step - loss: 0.0485 - mse: 0.0047 - val_loss: 0.0631 - val_mse: 0.0073\n",
            "Epoch 59/100\n",
            "1128/1128 [==============================] - 2s 2ms/step - loss: 0.0535 - mse: 0.0060 - val_loss: 0.0376 - val_mse: 0.0028\n",
            "Epoch 60/100\n",
            "1128/1128 [==============================] - 4s 3ms/step - loss: 0.0516 - mse: 0.0056 - val_loss: 0.0488 - val_mse: 0.0040\n",
            "Epoch 61/100\n",
            "1128/1128 [==============================] - 5s 5ms/step - loss: 0.0507 - mse: 0.0053 - val_loss: 0.0351 - val_mse: 0.0025\n",
            "Epoch 62/100\n",
            "1128/1128 [==============================] - 3s 2ms/step - loss: 0.0481 - mse: 0.0049 - val_loss: 0.0399 - val_mse: 0.0028\n",
            "Epoch 63/100\n",
            "1128/1128 [==============================] - 2s 2ms/step - loss: 0.0495 - mse: 0.0050 - val_loss: 0.0383 - val_mse: 0.0028\n",
            "Epoch 64/100\n",
            "1128/1128 [==============================] - 2s 2ms/step - loss: 0.0512 - mse: 0.0055 - val_loss: 0.0798 - val_mse: 0.0111\n",
            "Epoch 65/100\n",
            "1128/1128 [==============================] - 2s 2ms/step - loss: 0.0470 - mse: 0.0044 - val_loss: 0.0301 - val_mse: 0.0019\n",
            "Epoch 66/100\n",
            "1128/1128 [==============================] - 3s 3ms/step - loss: 0.0455 - mse: 0.0044 - val_loss: 0.0437 - val_mse: 0.0041\n",
            "Epoch 67/100\n",
            "1128/1128 [==============================] - 2s 2ms/step - loss: 0.0473 - mse: 0.0047 - val_loss: 0.0502 - val_mse: 0.0043\n",
            "Epoch 68/100\n",
            "1128/1128 [==============================] - 2s 2ms/step - loss: 0.0513 - mse: 0.0054 - val_loss: 0.0519 - val_mse: 0.0047\n",
            "Epoch 69/100\n",
            "1128/1128 [==============================] - 2s 2ms/step - loss: 0.0481 - mse: 0.0048 - val_loss: 0.0401 - val_mse: 0.0029\n",
            "Epoch 70/100\n",
            "1128/1128 [==============================] - 2s 2ms/step - loss: 0.0485 - mse: 0.0047 - val_loss: 0.0308 - val_mse: 0.0018\n",
            "Epoch 71/100\n",
            "1128/1128 [==============================] - 3s 3ms/step - loss: 0.0508 - mse: 0.0053 - val_loss: 0.0415 - val_mse: 0.0031\n",
            "Epoch 72/100\n",
            "1128/1128 [==============================] - 3s 3ms/step - loss: 0.0482 - mse: 0.0047 - val_loss: 0.0438 - val_mse: 0.0029\n",
            "Epoch 73/100\n",
            "1128/1128 [==============================] - 5s 4ms/step - loss: 0.0522 - mse: 0.0058 - val_loss: 0.0520 - val_mse: 0.0058\n",
            "Epoch 74/100\n",
            "1128/1128 [==============================] - 2s 2ms/step - loss: 0.0461 - mse: 0.0044 - val_loss: 0.0433 - val_mse: 0.0032\n",
            "Epoch 75/100\n",
            "1128/1128 [==============================] - 4s 3ms/step - loss: 0.0483 - mse: 0.0049 - val_loss: 0.0360 - val_mse: 0.0024\n",
            "Epoch 76/100\n",
            "1128/1128 [==============================] - 2s 2ms/step - loss: 0.0473 - mse: 0.0046 - val_loss: 0.0566 - val_mse: 0.0057\n",
            "Epoch 77/100\n",
            "1128/1128 [==============================] - 2s 2ms/step - loss: 0.0502 - mse: 0.0052 - val_loss: 0.0582 - val_mse: 0.0069\n",
            "Epoch 78/100\n",
            "1128/1128 [==============================] - 2s 2ms/step - loss: 0.0479 - mse: 0.0046 - val_loss: 0.0983 - val_mse: 0.0156\n",
            "Epoch 79/100\n",
            "1128/1128 [==============================] - 2s 2ms/step - loss: 0.0490 - mse: 0.0048 - val_loss: 0.0545 - val_mse: 0.0050\n",
            "Epoch 80/100\n",
            "1128/1128 [==============================] - 3s 3ms/step - loss: 0.0483 - mse: 0.0049 - val_loss: 0.0733 - val_mse: 0.0139\n",
            "Epoch 81/100\n",
            "1128/1128 [==============================] - 2s 2ms/step - loss: 0.0500 - mse: 0.0052 - val_loss: 0.0384 - val_mse: 0.0030\n",
            "Epoch 82/100\n",
            "1128/1128 [==============================] - 2s 2ms/step - loss: 0.0501 - mse: 0.0053 - val_loss: 0.0326 - val_mse: 0.0022\n",
            "Epoch 83/100\n",
            "1128/1128 [==============================] - 3s 2ms/step - loss: 0.0485 - mse: 0.0047 - val_loss: 0.0439 - val_mse: 0.0030\n",
            "Epoch 84/100\n",
            "1128/1128 [==============================] - 2s 2ms/step - loss: 0.0494 - mse: 0.0050 - val_loss: 0.0319 - val_mse: 0.0021\n",
            "Epoch 85/100\n",
            "1128/1128 [==============================] - 3s 3ms/step - loss: 0.0482 - mse: 0.0047 - val_loss: 0.0475 - val_mse: 0.0041\n",
            "Epoch 86/100\n",
            "1128/1128 [==============================] - 3s 2ms/step - loss: 0.0491 - mse: 0.0048 - val_loss: 0.0660 - val_mse: 0.0073\n",
            "Epoch 87/100\n",
            "1128/1128 [==============================] - 2s 2ms/step - loss: 0.0466 - mse: 0.0045 - val_loss: 0.0428 - val_mse: 0.0033\n",
            "Epoch 88/100\n",
            "1128/1128 [==============================] - 2s 2ms/step - loss: 0.0527 - mse: 0.0059 - val_loss: 0.0468 - val_mse: 0.0048\n",
            "Epoch 89/100\n",
            "1128/1128 [==============================] - 2s 2ms/step - loss: 0.0487 - mse: 0.0048 - val_loss: 0.0312 - val_mse: 0.0020\n",
            "Epoch 90/100\n",
            "1128/1128 [==============================] - 3s 3ms/step - loss: 0.0481 - mse: 0.0047 - val_loss: 0.0300 - val_mse: 0.0019\n",
            "Epoch 91/100\n",
            "1128/1128 [==============================] - 3s 2ms/step - loss: 0.0445 - mse: 0.0040 - val_loss: 0.0344 - val_mse: 0.0021\n",
            "Epoch 92/100\n",
            "1128/1128 [==============================] - 2s 2ms/step - loss: 0.0490 - mse: 0.0048 - val_loss: 0.0307 - val_mse: 0.0018\n",
            "Epoch 93/100\n",
            "1128/1128 [==============================] - 2s 2ms/step - loss: 0.0467 - mse: 0.0045 - val_loss: 0.0618 - val_mse: 0.0066\n",
            "Epoch 94/100\n",
            "1128/1128 [==============================] - 4s 4ms/step - loss: 0.0476 - mse: 0.0047 - val_loss: 0.0385 - val_mse: 0.0025\n",
            "Epoch 95/100\n",
            "1128/1128 [==============================] - 3s 2ms/step - loss: 0.0497 - mse: 0.0050 - val_loss: 0.0570 - val_mse: 0.0073\n",
            "Epoch 96/100\n",
            "1128/1128 [==============================] - 2s 2ms/step - loss: 0.0488 - mse: 0.0049 - val_loss: 0.0536 - val_mse: 0.0048\n",
            "Epoch 97/100\n",
            "1128/1128 [==============================] - 2s 2ms/step - loss: 0.0512 - mse: 0.0054 - val_loss: 0.0365 - val_mse: 0.0025\n",
            "Epoch 98/100\n",
            "1128/1128 [==============================] - 4s 3ms/step - loss: 0.0478 - mse: 0.0047 - val_loss: 0.0618 - val_mse: 0.0066\n",
            "Epoch 99/100\n",
            "1128/1128 [==============================] - 6s 5ms/step - loss: 0.0451 - mse: 0.0041 - val_loss: 0.0892 - val_mse: 0.0161\n",
            "Epoch 100/100\n",
            "1128/1128 [==============================] - 4s 3ms/step - loss: 0.0481 - mse: 0.0047 - val_loss: 0.0384 - val_mse: 0.0031\n"
          ]
        }
      ]
    },
    {
      "cell_type": "code",
      "source": [
        "# evaluate the model\n",
        "_, train_mse = model.evaluate(X_train, y_train, verbose=0)\n",
        "_, test_mse = model.evaluate(X_test, y_test, verbose=0)\n",
        "print('Train: %.3f, Test: %.3f' % (train_mse, test_mse))\n"
      ],
      "metadata": {
        "colab": {
          "base_uri": "https://localhost:8080/"
        },
        "id": "E1m6_kEWOzcH",
        "outputId": "56a11907-a5a1-4089-8429-e2354e115fc4"
      },
      "id": "E1m6_kEWOzcH",
      "execution_count": null,
      "outputs": [
        {
          "output_type": "stream",
          "name": "stdout",
          "text": [
            "Train: 0.003, Test: 0.003\n"
          ]
        }
      ]
    },
    {
      "cell_type": "code",
      "source": [
        "# plot loss during training\n",
        "plt.subplot(211)\n",
        "plt.title('Mean Absolute Error Loss', pad=-20)\n",
        "plt.plot(history.history['loss'], label='train')\n",
        "plt.plot(history.history['val_loss'], label='test')\n",
        "plt.legend()"
      ],
      "metadata": {
        "colab": {
          "base_uri": "https://localhost:8080/",
          "height": 177
        },
        "id": "DtjOR9xmL-oL",
        "outputId": "0d0a0f15-9cb9-4059-f730-e00f8ae01f8e"
      },
      "id": "DtjOR9xmL-oL",
      "execution_count": null,
      "outputs": [
        {
          "output_type": "execute_result",
          "data": {
            "text/plain": [
              "<matplotlib.legend.Legend at 0x7fe8327bc250>"
            ]
          },
          "metadata": {},
          "execution_count": 38
        },
        {
          "output_type": "display_data",
          "data": {
            "text/plain": [
              "<Figure size 432x288 with 1 Axes>"
            ],
            "image/png": "[encoded data removed]"
          },
          "metadata": {
            "needs_background": "light"
          }
        }
      ]
    },
    {
      "cell_type": "code",
      "source": [
        "# plot mse during training\n",
        "plt.subplot(212)\n",
        "plt.title('Mean Squared Error', pad=-20)\n",
        "plt.plot(history.history['mse'], label='train')\n",
        "plt.plot(history.history['val_mse'], label='test')\n",
        "plt.legend()\n",
        "plt.show()"
      ],
      "metadata": {
        "colab": {
          "base_uri": "https://localhost:8080/",
          "height": 160
        },
        "id": "FHktsw60MBru",
        "outputId": "893e9adc-dadf-4591-e18d-5e86877cc22b"
      },
      "id": "FHktsw60MBru",
      "execution_count": null,
      "outputs": [
        {
          "output_type": "display_data",
          "data": {
            "text/plain": [
              "<Figure size 432x288 with 1 Axes>"
            ],
            "image/png": "[encoded data removed]"
          },
          "metadata": {
            "needs_background": "light"
          }
        }
      ]
    },
    {
      "cell_type": "markdown",
      "id": "63eeb542",
      "metadata": {
        "id": "63eeb542"
      },
      "source": [
        "# Tuning of Hyperparameters :-"
      ]
    },
    {
      "cell_type": "code",
      "execution_count": null,
      "id": "71b78bd0",
      "metadata": {
        "id": "71b78bd0"
      },
      "outputs": [],
      "source": []
    },
    {
      "cell_type": "code",
      "execution_count": null,
      "id": "ce2bfdee",
      "metadata": {
        "id": "ce2bfdee"
      },
      "outputs": [],
      "source": [
        "# Importing the necessary packages\n",
        "from sklearn.model_selection import GridSearchCV, KFold\n",
        "from keras.models import Sequential\n",
        "from keras.layers import Dense\n",
        "from keras.wrappers.scikit_learn import KerasRegressor\n",
        "from tensorflow.keras.optimizers import Adam, SGD"
      ]
    },
    {
      "cell_type": "markdown",
      "id": "d93f433a",
      "metadata": {
        "id": "d93f433a"
      },
      "source": [
        "Tuning of Hyperparameters :- Batch Size and Epochs "
      ]
    },
    {
      "cell_type": "code",
      "execution_count": null,
      "id": "8177524a",
      "metadata": {
        "id": "8177524a"
      },
      "outputs": [],
      "source": [
        "# create model\n",
        "def create_model():\n",
        "    model = Sequential()\n",
        "    model.add(Dense(20, input_dim=10, kernel_initializer='he_uniform', activation='relu'))\n",
        "    model.add(Dense(10, kernel_initializer='he_uniform', activation='relu'))\n",
        "    model.add(Dense(1, kernel_initializer='he_uniform', activation='linear'))\n",
        "    \n",
        "    opt=SGD(learning_rate=0.01, momentum=0.9)\n",
        "    model.compile(loss='mean_absolute_error', optimizer=opt, metrics=['mse'])\n",
        "    return model\n"
      ]
    },
    {
      "cell_type": "code",
      "execution_count": null,
      "id": "055b24c5",
      "metadata": {
        "colab": {
          "base_uri": "https://localhost:8080/"
        },
        "id": "055b24c5",
        "outputId": "832595f6-9710-45a3-8125-84c51a1e5fb0"
      },
      "outputs": [
        {
          "output_type": "stream",
          "name": "stderr",
          "text": [
            "<ipython-input-48-667c3eb697bb>:2: DeprecationWarning: KerasRegressor is deprecated, use Sci-Keras (https://github.com/adriangb/scikeras) instead. See https://www.adriangb.com/scikeras/stable/migration.html for help migrating.\n",
            "  model = KerasRegressor(build_fn = create_model,verbose = 0)\n"
          ]
        },
        {
          "output_type": "stream",
          "name": "stdout",
          "text": [
            "Fitting 5 folds for each of 9 candidates, totalling 45 fits\n",
            "[CV 1/5; 1/9] START batch_size=10, epochs=50....................................\n",
            "[CV 1/5; 1/9] END ....batch_size=10, epochs=50;, score=-0.081 total time= 2.4min\n",
            "[CV 2/5; 1/9] START batch_size=10, epochs=50....................................\n",
            "[CV 2/5; 1/9] END ....batch_size=10, epochs=50;, score=-0.032 total time= 1.5min\n",
            "[CV 3/5; 1/9] START batch_size=10, epochs=50....................................\n",
            "[CV 3/5; 1/9] END ....batch_size=10, epochs=50;, score=-0.042 total time= 2.4min\n",
            "[CV 4/5; 1/9] START batch_size=10, epochs=50....................................\n",
            "[CV 4/5; 1/9] END ....batch_size=10, epochs=50;, score=-0.066 total time= 2.4min\n",
            "[CV 5/5; 1/9] START batch_size=10, epochs=50....................................\n",
            "[CV 5/5; 1/9] END ....batch_size=10, epochs=50;, score=-0.098 total time= 2.4min\n",
            "[CV 1/5; 2/9] START batch_size=10, epochs=100...................................\n",
            "[CV 1/5; 2/9] END ...batch_size=10, epochs=100;, score=-0.064 total time= 3.0min\n",
            "[CV 2/5; 2/9] START batch_size=10, epochs=100...................................\n",
            "[CV 2/5; 2/9] END ...batch_size=10, epochs=100;, score=-0.027 total time= 3.0min\n",
            "[CV 3/5; 2/9] START batch_size=10, epochs=100...................................\n",
            "[CV 3/5; 2/9] END ...batch_size=10, epochs=100;, score=-0.046 total time= 3.0min\n",
            "[CV 4/5; 2/9] START batch_size=10, epochs=100...................................\n",
            "[CV 4/5; 2/9] END ...batch_size=10, epochs=100;, score=-0.047 total time= 3.0min\n",
            "[CV 5/5; 2/9] START batch_size=10, epochs=100...................................\n",
            "[CV 5/5; 2/9] END ...batch_size=10, epochs=100;, score=-0.042 total time= 3.4min\n",
            "[CV 1/5; 3/9] START batch_size=10, epochs=150...................................\n",
            "[CV 1/5; 3/9] END ...batch_size=10, epochs=150;, score=-0.103 total time= 4.7min\n",
            "[CV 2/5; 3/9] START batch_size=10, epochs=150...................................\n",
            "[CV 2/5; 3/9] END ...batch_size=10, epochs=150;, score=-0.043 total time= 4.7min\n",
            "[CV 3/5; 3/9] START batch_size=10, epochs=150...................................\n",
            "[CV 3/5; 3/9] END ...batch_size=10, epochs=150;, score=-0.067 total time= 4.5min\n",
            "[CV 4/5; 3/9] START batch_size=10, epochs=150...................................\n",
            "[CV 4/5; 3/9] END ...batch_size=10, epochs=150;, score=-0.064 total time= 5.4min\n",
            "[CV 5/5; 3/9] START batch_size=10, epochs=150...................................\n",
            "[CV 5/5; 3/9] END ...batch_size=10, epochs=150;, score=-0.045 total time= 5.4min\n",
            "[CV 1/5; 4/9] START batch_size=20, epochs=50....................................\n",
            "[CV 1/5; 4/9] END ....batch_size=20, epochs=50;, score=-0.041 total time=  46.9s\n",
            "[CV 2/5; 4/9] START batch_size=20, epochs=50....................................\n",
            "[CV 2/5; 4/9] END ....batch_size=20, epochs=50;, score=-0.030 total time= 1.4min\n",
            "[CV 3/5; 4/9] START batch_size=20, epochs=50....................................\n",
            "[CV 3/5; 4/9] END ....batch_size=20, epochs=50;, score=-0.054 total time=  45.0s\n",
            "[CV 4/5; 4/9] START batch_size=20, epochs=50....................................\n",
            "[CV 4/5; 4/9] END ....batch_size=20, epochs=50;, score=-0.031 total time= 1.4min\n",
            "[CV 5/5; 4/9] START batch_size=20, epochs=50....................................\n",
            "[CV 5/5; 4/9] END ....batch_size=20, epochs=50;, score=-0.039 total time= 1.4min\n",
            "[CV 1/5; 5/9] START batch_size=20, epochs=100...................................\n",
            "[CV 1/5; 5/9] END ...batch_size=20, epochs=100;, score=-0.041 total time= 2.4min\n",
            "[CV 2/5; 5/9] START batch_size=20, epochs=100...................................\n",
            "[CV 2/5; 5/9] END ...batch_size=20, epochs=100;, score=-0.027 total time= 2.4min\n",
            "[CV 3/5; 5/9] START batch_size=20, epochs=100...................................\n",
            "[CV 3/5; 5/9] END ...batch_size=20, epochs=100;, score=-0.037 total time= 1.5min\n",
            "[CV 4/5; 5/9] START batch_size=20, epochs=100...................................\n",
            "[CV 4/5; 5/9] END ...batch_size=20, epochs=100;, score=-0.034 total time= 2.4min\n",
            "[CV 5/5; 5/9] START batch_size=20, epochs=100...................................\n",
            "[CV 5/5; 5/9] END ...batch_size=20, epochs=100;, score=-0.039 total time= 2.4min\n",
            "[CV 1/5; 6/9] START batch_size=20, epochs=150...................................\n",
            "[CV 1/5; 6/9] END ...batch_size=20, epochs=150;, score=-0.049 total time= 2.4min\n",
            "[CV 2/5; 6/9] START batch_size=20, epochs=150...................................\n",
            "[CV 2/5; 6/9] END ...batch_size=20, epochs=150;, score=-0.041 total time= 2.4min\n",
            "[CV 3/5; 6/9] START batch_size=20, epochs=150...................................\n",
            "[CV 3/5; 6/9] END ...batch_size=20, epochs=150;, score=-0.050 total time= 2.3min\n",
            "[CV 4/5; 6/9] START batch_size=20, epochs=150...................................\n",
            "[CV 4/5; 6/9] END ...batch_size=20, epochs=150;, score=-0.029 total time= 2.4min\n",
            "[CV 5/5; 6/9] START batch_size=20, epochs=150...................................\n",
            "[CV 5/5; 6/9] END ...batch_size=20, epochs=150;, score=-0.036 total time= 2.4min\n",
            "[CV 1/5; 7/9] START batch_size=40, epochs=50....................................\n",
            "[CV 1/5; 7/9] END ....batch_size=40, epochs=50;, score=-0.048 total time=  41.9s\n",
            "[CV 2/5; 7/9] START batch_size=40, epochs=50....................................\n",
            "[CV 2/5; 7/9] END ....batch_size=40, epochs=50;, score=-0.033 total time=  23.4s\n",
            "[CV 3/5; 7/9] START batch_size=40, epochs=50....................................\n",
            "[CV 3/5; 7/9] END ....batch_size=40, epochs=50;, score=-0.039 total time=  23.2s\n",
            "[CV 4/5; 7/9] START batch_size=40, epochs=50....................................\n",
            "[CV 4/5; 7/9] END ....batch_size=40, epochs=50;, score=-0.036 total time=  42.2s\n",
            "[CV 5/5; 7/9] START batch_size=40, epochs=50....................................\n",
            "[CV 5/5; 7/9] END ....batch_size=40, epochs=50;, score=-0.036 total time=  24.5s\n",
            "[CV 1/5; 8/9] START batch_size=40, epochs=100...................................\n",
            "[CV 1/5; 8/9] END ...batch_size=40, epochs=100;, score=-0.043 total time=  45.7s\n",
            "[CV 2/5; 8/9] START batch_size=40, epochs=100...................................\n",
            "[CV 2/5; 8/9] END ...batch_size=40, epochs=100;, score=-0.032 total time= 1.4min\n",
            "[CV 3/5; 8/9] START batch_size=40, epochs=100...................................\n",
            "[CV 3/5; 8/9] END ...batch_size=40, epochs=100;, score=-0.044 total time= 1.4min\n",
            "[CV 4/5; 8/9] START batch_size=40, epochs=100...................................\n",
            "[CV 4/5; 8/9] END ...batch_size=40, epochs=100;, score=-0.044 total time=  44.9s\n",
            "[CV 5/5; 8/9] START batch_size=40, epochs=100...................................\n",
            "[CV 5/5; 8/9] END ...batch_size=40, epochs=100;, score=-0.030 total time= 1.4min\n",
            "[CV 1/5; 9/9] START batch_size=40, epochs=150...................................\n",
            "[CV 1/5; 9/9] END ...batch_size=40, epochs=150;, score=-0.042 total time= 1.1min\n",
            "[CV 2/5; 9/9] START batch_size=40, epochs=150...................................\n",
            "[CV 2/5; 9/9] END ...batch_size=40, epochs=150;, score=-0.028 total time= 1.4min\n",
            "[CV 3/5; 9/9] START batch_size=40, epochs=150...................................\n",
            "[CV 3/5; 9/9] END ...batch_size=40, epochs=150;, score=-0.043 total time= 1.4min\n",
            "[CV 4/5; 9/9] START batch_size=40, epochs=150...................................\n",
            "[CV 4/5; 9/9] END ...batch_size=40, epochs=150;, score=-0.035 total time= 1.4min\n",
            "[CV 5/5; 9/9] START batch_size=40, epochs=150...................................\n",
            "[CV 5/5; 9/9] END ...batch_size=40, epochs=150;, score=-0.029 total time= 1.4min\n"
          ]
        }
      ],
      "source": [
        "\n",
        "# Create the model\n",
        "model = KerasRegressor(build_fn = create_model,verbose = 0)\n",
        "# Define the grid search parameters\n",
        "batch_size = [10,20,40]\n",
        "epochs = [50,100,150]\n",
        "# Make a dictionary of the grid search parameters\n",
        "param_grid = dict(batch_size = batch_size,epochs = epochs)\n",
        "# Build and fit the GridSearchCV\n",
        "grid = GridSearchCV(estimator = model,param_grid = param_grid,cv = KFold(),verbose = 10)\n",
        "grid_result = grid.fit(X_standardized,y) "
      ]
    },
    {
      "cell_type": "code",
      "execution_count": null,
      "id": "e6db0731",
      "metadata": {
        "colab": {
          "base_uri": "https://localhost:8080/"
        },
        "id": "e6db0731",
        "outputId": "097eb3af-b599-4119-b5a3-b68fe72514c7"
      },
      "outputs": [
        {
          "output_type": "stream",
          "name": "stdout",
          "text": [
            "Best : -0.03541927449405193, using {'batch_size': 20, 'epochs': 100}\n",
            "-0.06377664282917976,0.02426882292506102 with: {'batch_size': 10, 'epochs': 50}\n",
            "-0.04526148252189159,0.011679011268448052 with: {'batch_size': 10, 'epochs': 100}\n",
            "-0.0642245352268219,0.02156374773739709 with: {'batch_size': 10, 'epochs': 150}\n",
            "-0.03905404582619667,0.008593706619502742 with: {'batch_size': 20, 'epochs': 50}\n",
            "-0.03541927449405193,0.005002232227110561 with: {'batch_size': 20, 'epochs': 100}\n",
            "-0.04081703759729862,0.00782249184899201 with: {'batch_size': 20, 'epochs': 150}\n",
            "-0.03854878842830658,0.005144003010041458 with: {'batch_size': 40, 'epochs': 50}\n",
            "-0.0384944349527359,0.006261715144507318 with: {'batch_size': 40, 'epochs': 100}\n",
            "-0.03551451861858368,0.006376296975818379 with: {'batch_size': 40, 'epochs': 150}\n"
          ]
        }
      ],
      "source": [
        "# Summarize the results\n",
        "print('Best : {}, using {}'.format(grid_result.best_score_,grid_result.best_params_))\n",
        "means = grid_result.cv_results_['mean_test_score']\n",
        "stds = grid_result.cv_results_['std_test_score']\n",
        "params = grid_result.cv_results_['params']\n",
        "for mean, stdev, param in zip(means, stds, params):\n",
        "  print('{},{} with: {}'.format(mean, stdev, param)) "
      ]
    },
    {
      "cell_type": "markdown",
      "id": "cf1fdb81",
      "metadata": {
        "id": "cf1fdb81"
      },
      "source": [
        "##Tuning of Hyperparameters:- Learning rate and Drop out rate"
      ]
    },
    {
      "cell_type": "code",
      "execution_count": null,
      "id": "928af314",
      "metadata": {
        "colab": {
          "base_uri": "https://localhost:8080/"
        },
        "id": "928af314",
        "outputId": "e057816e-1376-4b72-a4e8-0ff7bccdfc88"
      },
      "outputs": [
        {
          "output_type": "stream",
          "name": "stderr",
          "text": [
            "<ipython-input-51-bec28ef34775>:19: DeprecationWarning: KerasRegressor is deprecated, use Sci-Keras (https://github.com/adriangb/scikeras) instead. See https://www.adriangb.com/scikeras/stable/migration.html for help migrating.\n",
            "  model = KerasRegressor(build_fn = create_model,verbose = 0,batch_size = 20,epochs = 10)\n"
          ]
        },
        {
          "output_type": "stream",
          "name": "stdout",
          "text": [
            "Fitting 5 folds for each of 9 candidates, totalling 45 fits\n",
            "[CV 1/5; 1/9] START dropout_rate=0.0, learning_rate=0.001.......................\n",
            "[CV 1/5; 1/9] END dropout_rate=0.0, learning_rate=0.001;, score=-0.060 total time=  12.6s\n",
            "[CV 2/5; 1/9] START dropout_rate=0.0, learning_rate=0.001.......................\n",
            "[CV 2/5; 1/9] END dropout_rate=0.0, learning_rate=0.001;, score=-0.043 total time=   9.7s\n",
            "[CV 3/5; 1/9] START dropout_rate=0.0, learning_rate=0.001.......................\n",
            "[CV 3/5; 1/9] END dropout_rate=0.0, learning_rate=0.001;, score=-0.061 total time=  10.4s\n",
            "[CV 4/5; 1/9] START dropout_rate=0.0, learning_rate=0.001.......................\n",
            "[CV 4/5; 1/9] END dropout_rate=0.0, learning_rate=0.001;, score=-0.047 total time=  11.5s\n",
            "[CV 5/5; 1/9] START dropout_rate=0.0, learning_rate=0.001.......................\n",
            "[CV 5/5; 1/9] END dropout_rate=0.0, learning_rate=0.001;, score=-0.045 total time=  10.3s\n",
            "[CV 1/5; 2/9] START dropout_rate=0.0, learning_rate=0.01........................\n",
            "[CV 1/5; 2/9] END dropout_rate=0.0, learning_rate=0.01;, score=-0.056 total time=  11.3s\n",
            "[CV 2/5; 2/9] START dropout_rate=0.0, learning_rate=0.01........................\n",
            "[CV 2/5; 2/9] END dropout_rate=0.0, learning_rate=0.01;, score=-0.048 total time=  10.3s\n",
            "[CV 3/5; 2/9] START dropout_rate=0.0, learning_rate=0.01........................\n",
            "[CV 3/5; 2/9] END dropout_rate=0.0, learning_rate=0.01;, score=-0.060 total time=   9.5s\n",
            "[CV 4/5; 2/9] START dropout_rate=0.0, learning_rate=0.01........................\n",
            "[CV 4/5; 2/9] END dropout_rate=0.0, learning_rate=0.01;, score=-0.037 total time=  11.6s\n",
            "[CV 5/5; 2/9] START dropout_rate=0.0, learning_rate=0.01........................\n",
            "[CV 5/5; 2/9] END dropout_rate=0.0, learning_rate=0.01;, score=-0.034 total time=  11.3s\n",
            "[CV 1/5; 3/9] START dropout_rate=0.0, learning_rate=0.1.........................\n",
            "[CV 1/5; 3/9] END dropout_rate=0.0, learning_rate=0.1;, score=-0.174 total time=  11.4s\n",
            "[CV 2/5; 3/9] START dropout_rate=0.0, learning_rate=0.1.........................\n",
            "[CV 2/5; 3/9] END dropout_rate=0.0, learning_rate=0.1;, score=-0.280 total time=  10.4s\n",
            "[CV 3/5; 3/9] START dropout_rate=0.0, learning_rate=0.1.........................\n",
            "[CV 3/5; 3/9] END dropout_rate=0.0, learning_rate=0.1;, score=-0.285 total time=  11.4s\n",
            "[CV 4/5; 3/9] START dropout_rate=0.0, learning_rate=0.1.........................\n",
            "[CV 4/5; 3/9] END dropout_rate=0.0, learning_rate=0.1;, score=-0.157 total time=  10.4s\n",
            "[CV 5/5; 3/9] START dropout_rate=0.0, learning_rate=0.1.........................\n",
            "[CV 5/5; 3/9] END dropout_rate=0.0, learning_rate=0.1;, score=-0.136 total time=   9.3s\n",
            "[CV 1/5; 4/9] START dropout_rate=0.1, learning_rate=0.001.......................\n",
            "[CV 1/5; 4/9] END dropout_rate=0.1, learning_rate=0.001;, score=-0.160 total time=  11.9s\n",
            "[CV 2/5; 4/9] START dropout_rate=0.1, learning_rate=0.001.......................\n",
            "[CV 2/5; 4/9] END dropout_rate=0.1, learning_rate=0.001;, score=-0.098 total time=  11.6s\n",
            "[CV 3/5; 4/9] START dropout_rate=0.1, learning_rate=0.001.......................\n",
            "[CV 3/5; 4/9] END dropout_rate=0.1, learning_rate=0.001;, score=-0.127 total time=  10.8s\n",
            "[CV 4/5; 4/9] START dropout_rate=0.1, learning_rate=0.001.......................\n",
            "[CV 4/5; 4/9] END dropout_rate=0.1, learning_rate=0.001;, score=-0.105 total time=  10.7s\n",
            "[CV 5/5; 4/9] START dropout_rate=0.1, learning_rate=0.001.......................\n",
            "[CV 5/5; 4/9] END dropout_rate=0.1, learning_rate=0.001;, score=-0.127 total time=  11.5s\n",
            "[CV 1/5; 5/9] START dropout_rate=0.1, learning_rate=0.01........................\n",
            "[CV 1/5; 5/9] END dropout_rate=0.1, learning_rate=0.01;, score=-0.133 total time=  10.7s\n",
            "[CV 2/5; 5/9] START dropout_rate=0.1, learning_rate=0.01........................\n",
            "[CV 2/5; 5/9] END dropout_rate=0.1, learning_rate=0.01;, score=-0.104 total time=  12.3s\n",
            "[CV 3/5; 5/9] START dropout_rate=0.1, learning_rate=0.01........................\n",
            "[CV 3/5; 5/9] END dropout_rate=0.1, learning_rate=0.01;, score=-0.124 total time=  10.9s\n",
            "[CV 4/5; 5/9] START dropout_rate=0.1, learning_rate=0.01........................\n",
            "[CV 4/5; 5/9] END dropout_rate=0.1, learning_rate=0.01;, score=-0.159 total time=   9.9s\n",
            "[CV 5/5; 5/9] START dropout_rate=0.1, learning_rate=0.01........................\n",
            "[CV 5/5; 5/9] END dropout_rate=0.1, learning_rate=0.01;, score=-0.168 total time=  11.8s\n",
            "[CV 1/5; 6/9] START dropout_rate=0.1, learning_rate=0.1.........................\n",
            "[CV 1/5; 6/9] END dropout_rate=0.1, learning_rate=0.1;, score=-0.375 total time=  11.6s\n",
            "[CV 2/5; 6/9] START dropout_rate=0.1, learning_rate=0.1.........................\n",
            "[CV 2/5; 6/9] END dropout_rate=0.1, learning_rate=0.1;, score=-0.387 total time=  10.6s\n",
            "[CV 3/5; 6/9] START dropout_rate=0.1, learning_rate=0.1.........................\n",
            "[CV 3/5; 6/9] END dropout_rate=0.1, learning_rate=0.1;, score=-0.327 total time=  10.9s\n",
            "[CV 4/5; 6/9] START dropout_rate=0.1, learning_rate=0.1.........................\n",
            "[CV 4/5; 6/9] END dropout_rate=0.1, learning_rate=0.1;, score=-0.409 total time=  11.4s\n",
            "[CV 5/5; 6/9] START dropout_rate=0.1, learning_rate=0.1.........................\n",
            "[CV 5/5; 6/9] END dropout_rate=0.1, learning_rate=0.1;, score=-0.521 total time=  11.6s\n",
            "[CV 1/5; 7/9] START dropout_rate=0.2, learning_rate=0.001.......................\n",
            "[CV 1/5; 7/9] END dropout_rate=0.2, learning_rate=0.001;, score=-0.285 total time=  10.8s\n",
            "[CV 2/5; 7/9] START dropout_rate=0.2, learning_rate=0.001.......................\n",
            "[CV 2/5; 7/9] END dropout_rate=0.2, learning_rate=0.001;, score=-0.106 total time=  11.4s\n",
            "[CV 3/5; 7/9] START dropout_rate=0.2, learning_rate=0.001.......................\n",
            "[CV 3/5; 7/9] END dropout_rate=0.2, learning_rate=0.001;, score=-0.174 total time=   9.8s\n",
            "[CV 4/5; 7/9] START dropout_rate=0.2, learning_rate=0.001.......................\n",
            "[CV 4/5; 7/9] END dropout_rate=0.2, learning_rate=0.001;, score=-0.212 total time=  10.3s\n",
            "[CV 5/5; 7/9] START dropout_rate=0.2, learning_rate=0.001.......................\n",
            "[CV 5/5; 7/9] END dropout_rate=0.2, learning_rate=0.001;, score=-0.253 total time=  10.8s\n",
            "[CV 1/5; 8/9] START dropout_rate=0.2, learning_rate=0.01........................\n",
            "[CV 1/5; 8/9] END dropout_rate=0.2, learning_rate=0.01;, score=-0.184 total time=  11.5s\n",
            "[CV 2/5; 8/9] START dropout_rate=0.2, learning_rate=0.01........................\n",
            "[CV 2/5; 8/9] END dropout_rate=0.2, learning_rate=0.01;, score=-0.101 total time=  10.7s\n",
            "[CV 3/5; 8/9] START dropout_rate=0.2, learning_rate=0.01........................\n",
            "[CV 3/5; 8/9] END dropout_rate=0.2, learning_rate=0.01;, score=-0.246 total time=  10.6s\n",
            "[CV 4/5; 8/9] START dropout_rate=0.2, learning_rate=0.01........................\n",
            "[CV 4/5; 8/9] END dropout_rate=0.2, learning_rate=0.01;, score=-0.208 total time=  12.9s\n",
            "[CV 5/5; 8/9] START dropout_rate=0.2, learning_rate=0.01........................\n",
            "[CV 5/5; 8/9] END dropout_rate=0.2, learning_rate=0.01;, score=-0.310 total time=  11.6s\n",
            "[CV 1/5; 9/9] START dropout_rate=0.2, learning_rate=0.1.........................\n",
            "[CV 1/5; 9/9] END dropout_rate=0.2, learning_rate=0.1;, score=-0.629 total time=  10.6s\n",
            "[CV 2/5; 9/9] START dropout_rate=0.2, learning_rate=0.1.........................\n",
            "[CV 2/5; 9/9] END dropout_rate=0.2, learning_rate=0.1;, score=-0.371 total time=  10.1s\n",
            "[CV 3/5; 9/9] START dropout_rate=0.2, learning_rate=0.1.........................\n",
            "[CV 3/5; 9/9] END dropout_rate=0.2, learning_rate=0.1;, score=-0.590 total time=  10.8s\n",
            "[CV 4/5; 9/9] START dropout_rate=0.2, learning_rate=0.1.........................\n",
            "[CV 4/5; 9/9] END dropout_rate=0.2, learning_rate=0.1;, score=-0.396 total time=  11.6s\n",
            "[CV 5/5; 9/9] START dropout_rate=0.2, learning_rate=0.1.........................\n",
            "[CV 5/5; 9/9] END dropout_rate=0.2, learning_rate=0.1;, score=-0.519 total time=  11.6s\n"
          ]
        }
      ],
      "source": [
        "from keras.layers import Dropout\n",
        "\n",
        "# Defining the model\n",
        "\n",
        "def create_model(learning_rate,dropout_rate):\n",
        "    model = Sequential()\n",
        "    model.add(Dense(15,input_dim = 10,kernel_initializer = 'he_uniform',activation = 'relu'))\n",
        "    model.add(Dropout(dropout_rate))\n",
        "    model.add(Dense(10,input_dim = 10,kernel_initializer = 'he_uniform',activation = 'relu'))\n",
        "    model.add(Dropout(dropout_rate))\n",
        "    model.add(Dense(1,activation = 'linear'))\n",
        "    \n",
        "    opt=SGD(learning_rate=learning_rate, momentum=0.9)\n",
        "    model.compile(loss='mean_absolute_error', optimizer=opt, metrics=['mse'])\n",
        "    return model\n",
        "\n",
        "# Create the model\n",
        "\n",
        "model = KerasRegressor(build_fn = create_model,verbose = 0,batch_size = 20,epochs = 10)\n",
        "\n",
        "# Define the grid search parameters\n",
        "\n",
        "learning_rate = [0.001,0.01,0.1]\n",
        "dropout_rate = [0.0,0.1,0.2]\n",
        "\n",
        "# Make a dictionary of the grid search parameters\n",
        "\n",
        "param_grids = dict(learning_rate = learning_rate,dropout_rate = dropout_rate)\n",
        "\n",
        "# Build and fit the GridSearchCV\n",
        "\n",
        "grid = GridSearchCV(estimator = model,param_grid = param_grids,cv = KFold(),verbose = 10)\n",
        "grid_result = grid.fit(X_standardized,y)\n",
        " "
      ]
    },
    {
      "cell_type": "code",
      "execution_count": null,
      "id": "3a286e92",
      "metadata": {
        "colab": {
          "base_uri": "https://localhost:8080/"
        },
        "id": "3a286e92",
        "outputId": "45ed42e4-d56d-42b0-cac6-f22358354a59"
      },
      "outputs": [
        {
          "output_type": "stream",
          "name": "stdout",
          "text": [
            "Best : -0.046971922367811204, using {'dropout_rate': 0.0, 'learning_rate': 0.01}\n",
            "-0.05122573524713516,0.0075169255354808635 with: {'dropout_rate': 0.0, 'learning_rate': 0.001}\n",
            "-0.046971922367811204,0.010331259604353963 with: {'dropout_rate': 0.0, 'learning_rate': 0.01}\n",
            "-0.20621858537197113,0.06332823347478561 with: {'dropout_rate': 0.0, 'learning_rate': 0.1}\n",
            "-0.12343544811010361,0.02158272244860334 with: {'dropout_rate': 0.1, 'learning_rate': 0.001}\n",
            "-0.13750518560409547,0.023133921235740096 with: {'dropout_rate': 0.1, 'learning_rate': 0.01}\n",
            "-0.4038767874240875,0.06448989331325844 with: {'dropout_rate': 0.1, 'learning_rate': 0.1}\n",
            "-0.2061060681939125,0.06230062415584942 with: {'dropout_rate': 0.2, 'learning_rate': 0.001}\n",
            "-0.20996004045009614,0.06912101454534487 with: {'dropout_rate': 0.2, 'learning_rate': 0.01}\n",
            "-0.5011059403419494,0.10255982090228266 with: {'dropout_rate': 0.2, 'learning_rate': 0.1}\n"
          ]
        }
      ],
      "source": [
        "# Summarize the results\n",
        "print('Best : {}, using {}'.format(grid_result.best_score_,grid_result.best_params_))\n",
        "means = grid_result.cv_results_['mean_test_score']\n",
        "stds = grid_result.cv_results_['std_test_score']\n",
        "params = grid_result.cv_results_['params']\n",
        "for mean, stdev, param in zip(means, stds, params):\n",
        "  print('{},{} with: {}'.format(mean, stdev, param))"
      ]
    },
    {
      "cell_type": "markdown",
      "id": "1c60df5e",
      "metadata": {
        "id": "1c60df5e"
      },
      "source": [
        "##Tuning of Hyperparameters:- Activation Function and Kernel Initializer"
      ]
    },
    {
      "cell_type": "code",
      "execution_count": null,
      "id": "44bd52bb",
      "metadata": {
        "colab": {
          "base_uri": "https://localhost:8080/"
        },
        "id": "44bd52bb",
        "outputId": "f95b2bcb-3f25-4b50-f00b-5148d7a36b4a"
      },
      "outputs": [
        {
          "output_type": "stream",
          "name": "stderr",
          "text": [
            "<ipython-input-54-2409ffc75a93>:17: DeprecationWarning: KerasRegressor is deprecated, use Sci-Keras (https://github.com/adriangb/scikeras) instead. See https://www.adriangb.com/scikeras/stable/migration.html for help migrating.\n",
            "  model = KerasRegressor(build_fn = create_model,verbose = 0,batch_size = 20,epochs = 10)\n"
          ]
        },
        {
          "output_type": "stream",
          "name": "stdout",
          "text": [
            "Fitting 5 folds for each of 12 candidates, totalling 60 fits\n",
            "[CV 1/5; 1/12] START activation_function=softmax, init=uniform..................\n",
            "[CV 1/5; 1/12] END activation_function=softmax, init=uniform;, score=-0.046 total time=  10.9s\n",
            "[CV 2/5; 1/12] START activation_function=softmax, init=uniform..................\n",
            "[CV 2/5; 1/12] END activation_function=softmax, init=uniform;, score=-0.050 total time=  10.7s\n",
            "[CV 3/5; 1/12] START activation_function=softmax, init=uniform..................\n",
            "[CV 3/5; 1/12] END activation_function=softmax, init=uniform;, score=-0.050 total time=  10.8s\n",
            "[CV 4/5; 1/12] START activation_function=softmax, init=uniform..................\n",
            "[CV 4/5; 1/12] END activation_function=softmax, init=uniform;, score=-0.041 total time=   9.7s\n",
            "[CV 5/5; 1/12] START activation_function=softmax, init=uniform..................\n",
            "[CV 5/5; 1/12] END activation_function=softmax, init=uniform;, score=-0.060 total time=  10.2s\n",
            "[CV 1/5; 2/12] START activation_function=softmax, init=normal...................\n",
            "[CV 1/5; 2/12] END activation_function=softmax, init=normal;, score=-0.040 total time=  11.5s\n",
            "[CV 2/5; 2/12] START activation_function=softmax, init=normal...................\n",
            "[CV 2/5; 2/12] END activation_function=softmax, init=normal;, score=-0.057 total time=  11.4s\n",
            "[CV 3/5; 2/12] START activation_function=softmax, init=normal...................\n",
            "[CV 3/5; 2/12] END activation_function=softmax, init=normal;, score=-0.045 total time=  11.5s\n",
            "[CV 4/5; 2/12] START activation_function=softmax, init=normal...................\n",
            "[CV 4/5; 2/12] END activation_function=softmax, init=normal;, score=-0.041 total time=  12.1s\n",
            "[CV 5/5; 2/12] START activation_function=softmax, init=normal...................\n",
            "[CV 5/5; 2/12] END activation_function=softmax, init=normal;, score=-0.050 total time=  10.9s\n",
            "[CV 1/5; 3/12] START activation_function=softmax, init=he_uniform...............\n",
            "[CV 1/5; 3/12] END activation_function=softmax, init=he_uniform;, score=-0.052 total time=  11.5s\n",
            "[CV 2/5; 3/12] START activation_function=softmax, init=he_uniform...............\n",
            "[CV 2/5; 3/12] END activation_function=softmax, init=he_uniform;, score=-0.027 total time=  10.6s\n",
            "[CV 3/5; 3/12] START activation_function=softmax, init=he_uniform...............\n",
            "[CV 3/5; 3/12] END activation_function=softmax, init=he_uniform;, score=-0.073 total time=   9.9s\n",
            "[CV 4/5; 3/12] START activation_function=softmax, init=he_uniform...............\n",
            "[CV 4/5; 3/12] END activation_function=softmax, init=he_uniform;, score=-0.030 total time=  11.6s\n",
            "[CV 5/5; 3/12] START activation_function=softmax, init=he_uniform...............\n",
            "[CV 5/5; 3/12] END activation_function=softmax, init=he_uniform;, score=-0.044 total time=  11.5s\n",
            "[CV 1/5; 4/12] START activation_function=relu, init=uniform.....................\n",
            "[CV 1/5; 4/12] END activation_function=relu, init=uniform;, score=-0.071 total time=  10.2s\n",
            "[CV 2/5; 4/12] START activation_function=relu, init=uniform.....................\n",
            "[CV 2/5; 4/12] END activation_function=relu, init=uniform;, score=-0.033 total time=  11.3s\n",
            "[CV 3/5; 4/12] START activation_function=relu, init=uniform.....................\n",
            "[CV 3/5; 4/12] END activation_function=relu, init=uniform;, score=-0.052 total time=  11.5s\n",
            "[CV 4/5; 4/12] START activation_function=relu, init=uniform.....................\n",
            "[CV 4/5; 4/12] END activation_function=relu, init=uniform;, score=-0.037 total time=  10.4s\n",
            "[CV 5/5; 4/12] START activation_function=relu, init=uniform.....................\n",
            "[CV 5/5; 4/12] END activation_function=relu, init=uniform;, score=-0.053 total time=  11.5s\n",
            "[CV 1/5; 5/12] START activation_function=relu, init=normal......................\n",
            "[CV 1/5; 5/12] END activation_function=relu, init=normal;, score=-0.039 total time=   9.6s\n",
            "[CV 2/5; 5/12] START activation_function=relu, init=normal......................\n",
            "[CV 2/5; 5/12] END activation_function=relu, init=normal;, score=-0.028 total time=  11.8s\n",
            "[CV 3/5; 5/12] START activation_function=relu, init=normal......................\n",
            "[CV 3/5; 5/12] END activation_function=relu, init=normal;, score=-0.035 total time=  11.6s\n",
            "[CV 4/5; 5/12] START activation_function=relu, init=normal......................\n",
            "[CV 4/5; 5/12] END activation_function=relu, init=normal;, score=-0.043 total time=  11.5s\n",
            "[CV 5/5; 5/12] START activation_function=relu, init=normal......................\n",
            "[CV 5/5; 5/12] END activation_function=relu, init=normal;, score=-0.033 total time=  10.3s\n",
            "[CV 1/5; 6/12] START activation_function=relu, init=he_uniform..................\n",
            "[CV 1/5; 6/12] END activation_function=relu, init=he_uniform;, score=-0.066 total time=  11.5s\n",
            "[CV 2/5; 6/12] START activation_function=relu, init=he_uniform..................\n",
            "[CV 2/5; 6/12] END activation_function=relu, init=he_uniform;, score=-0.046 total time=  11.5s\n",
            "[CV 3/5; 6/12] START activation_function=relu, init=he_uniform..................\n",
            "[CV 3/5; 6/12] END activation_function=relu, init=he_uniform;, score=-0.058 total time=  10.4s\n",
            "[CV 4/5; 6/12] START activation_function=relu, init=he_uniform..................\n",
            "[CV 4/5; 6/12] END activation_function=relu, init=he_uniform;, score=-0.036 total time=  11.9s\n",
            "[CV 5/5; 6/12] START activation_function=relu, init=he_uniform..................\n",
            "[CV 5/5; 6/12] END activation_function=relu, init=he_uniform;, score=-0.037 total time=   9.6s\n",
            "[CV 1/5; 7/12] START activation_function=tanh, init=uniform.....................\n",
            "[CV 1/5; 7/12] END activation_function=tanh, init=uniform;, score=-0.057 total time=  10.1s\n",
            "[CV 2/5; 7/12] START activation_function=tanh, init=uniform.....................\n",
            "[CV 2/5; 7/12] END activation_function=tanh, init=uniform;, score=-0.037 total time=  11.4s\n",
            "[CV 3/5; 7/12] START activation_function=tanh, init=uniform.....................\n",
            "[CV 3/5; 7/12] END activation_function=tanh, init=uniform;, score=-0.075 total time=  10.4s\n",
            "[CV 4/5; 7/12] START activation_function=tanh, init=uniform.....................\n",
            "[CV 4/5; 7/12] END activation_function=tanh, init=uniform;, score=-0.036 total time=  10.3s\n",
            "[CV 5/5; 7/12] START activation_function=tanh, init=uniform.....................\n",
            "[CV 5/5; 7/12] END activation_function=tanh, init=uniform;, score=-0.046 total time=  11.5s\n",
            "[CV 1/5; 8/12] START activation_function=tanh, init=normal......................\n",
            "[CV 1/5; 8/12] END activation_function=tanh, init=normal;, score=-0.043 total time=  11.4s\n",
            "[CV 2/5; 8/12] START activation_function=tanh, init=normal......................\n",
            "[CV 2/5; 8/12] END activation_function=tanh, init=normal;, score=-0.043 total time=   9.7s\n",
            "[CV 3/5; 8/12] START activation_function=tanh, init=normal......................\n",
            "[CV 3/5; 8/12] END activation_function=tanh, init=normal;, score=-0.041 total time=  11.7s\n",
            "[CV 4/5; 8/12] START activation_function=tanh, init=normal......................\n",
            "[CV 4/5; 8/12] END activation_function=tanh, init=normal;, score=-0.043 total time=  10.2s\n",
            "[CV 5/5; 8/12] START activation_function=tanh, init=normal......................\n",
            "[CV 5/5; 8/12] END activation_function=tanh, init=normal;, score=-0.053 total time=  10.5s\n",
            "[CV 1/5; 9/12] START activation_function=tanh, init=he_uniform..................\n",
            "[CV 1/5; 9/12] END activation_function=tanh, init=he_uniform;, score=-0.067 total time=  10.4s\n",
            "[CV 2/5; 9/12] START activation_function=tanh, init=he_uniform..................\n",
            "[CV 2/5; 9/12] END activation_function=tanh, init=he_uniform;, score=-0.037 total time=  10.2s\n",
            "[CV 3/5; 9/12] START activation_function=tanh, init=he_uniform..................\n",
            "[CV 3/5; 9/12] END activation_function=tanh, init=he_uniform;, score=-0.055 total time=  11.4s\n",
            "[CV 4/5; 9/12] START activation_function=tanh, init=he_uniform..................\n",
            "[CV 4/5; 9/12] END activation_function=tanh, init=he_uniform;, score=-0.034 total time=   9.5s\n",
            "[CV 5/5; 9/12] START activation_function=tanh, init=he_uniform..................\n",
            "[CV 5/5; 9/12] END activation_function=tanh, init=he_uniform;, score=-0.058 total time=  11.7s\n",
            "[CV 1/5; 10/12] START activation_function=linear, init=uniform..................\n",
            "[CV 1/5; 10/12] END activation_function=linear, init=uniform;, score=-0.065 total time=  11.7s\n",
            "[CV 2/5; 10/12] START activation_function=linear, init=uniform..................\n",
            "[CV 2/5; 10/12] END activation_function=linear, init=uniform;, score=-0.056 total time=  10.3s\n",
            "[CV 3/5; 10/12] START activation_function=linear, init=uniform..................\n",
            "[CV 3/5; 10/12] END activation_function=linear, init=uniform;, score=-0.051 total time=  10.3s\n",
            "[CV 4/5; 10/12] START activation_function=linear, init=uniform..................\n",
            "[CV 4/5; 10/12] END activation_function=linear, init=uniform;, score=-0.048 total time=  11.7s\n",
            "[CV 5/5; 10/12] START activation_function=linear, init=uniform..................\n",
            "[CV 5/5; 10/12] END activation_function=linear, init=uniform;, score=-0.044 total time=  10.4s\n",
            "[CV 1/5; 11/12] START activation_function=linear, init=normal...................\n",
            "[CV 1/5; 11/12] END activation_function=linear, init=normal;, score=-0.043 total time=  10.1s\n",
            "[CV 2/5; 11/12] START activation_function=linear, init=normal...................\n",
            "[CV 2/5; 11/12] END activation_function=linear, init=normal;, score=-0.037 total time=   9.8s\n",
            "[CV 3/5; 11/12] START activation_function=linear, init=normal...................\n",
            "[CV 3/5; 11/12] END activation_function=linear, init=normal;, score=-0.060 total time=  11.5s\n",
            "[CV 4/5; 11/12] START activation_function=linear, init=normal...................\n",
            "[CV 4/5; 11/12] END activation_function=linear, init=normal;, score=-0.054 total time=  10.3s\n",
            "[CV 5/5; 11/12] START activation_function=linear, init=normal...................\n",
            "[CV 5/5; 11/12] END activation_function=linear, init=normal;, score=-0.039 total time=  11.3s\n",
            "[CV 1/5; 12/12] START activation_function=linear, init=he_uniform...............\n",
            "[CV 1/5; 12/12] END activation_function=linear, init=he_uniform;, score=-0.055 total time=  11.4s\n",
            "[CV 2/5; 12/12] START activation_function=linear, init=he_uniform...............\n",
            "[CV 2/5; 12/12] END activation_function=linear, init=he_uniform;, score=-0.032 total time=  11.4s\n",
            "[CV 3/5; 12/12] START activation_function=linear, init=he_uniform...............\n",
            "[CV 3/5; 12/12] END activation_function=linear, init=he_uniform;, score=-0.086 total time=  10.3s\n",
            "[CV 4/5; 12/12] START activation_function=linear, init=he_uniform...............\n",
            "[CV 4/5; 12/12] END activation_function=linear, init=he_uniform;, score=-0.045 total time=  11.5s\n",
            "[CV 5/5; 12/12] START activation_function=linear, init=he_uniform...............\n",
            "[CV 5/5; 12/12] END activation_function=linear, init=he_uniform;, score=-0.054 total time=   9.5s\n"
          ]
        }
      ],
      "source": [
        "# Defining the model\n",
        "\n",
        "def create_model(activation_function,init):\n",
        "    model = Sequential()\n",
        "    model.add(Dense(15,input_dim = 10,kernel_initializer = init,activation = activation_function))\n",
        "    model.add(Dropout(0.0))\n",
        "    model.add(Dense(10,input_dim = 10,kernel_initializer = init,activation = activation_function))\n",
        "    model.add(Dropout(0.0))\n",
        "    model.add(Dense(1,activation = 'linear'))\n",
        "    \n",
        "    opt=SGD(learning_rate=0.01, momentum=0.9)\n",
        "    model.compile(loss='mean_absolute_error', optimizer=opt, metrics=['mse'])\n",
        "    return model\n",
        "\n",
        "# Create the model\n",
        "\n",
        "model = KerasRegressor(build_fn = create_model,verbose = 0,batch_size = 20,epochs = 10)\n",
        "\n",
        "# Define the grid search parameters\n",
        "activation_function = ['softmax','relu','tanh','linear']\n",
        "init = ['uniform','normal','he_uniform']\n",
        "\n",
        "# Make a dictionary of the grid search parameters\n",
        "param_grids = dict(activation_function = activation_function,init = init)\n",
        "\n",
        "# Build and fit the GridSearchCV\n",
        "\n",
        "grid = GridSearchCV(estimator = model,param_grid = param_grids,cv = KFold(),verbose = 10)\n",
        "grid_result = grid.fit(X_standardized,y)\n"
      ]
    },
    {
      "cell_type": "code",
      "execution_count": null,
      "id": "746562ec",
      "metadata": {
        "colab": {
          "base_uri": "https://localhost:8080/"
        },
        "id": "746562ec",
        "outputId": "62c88158-ca8a-4591-d8ff-a0024e115e75"
      },
      "outputs": [
        {
          "output_type": "stream",
          "name": "stdout",
          "text": [
            "Best : -0.03586946353316307, using {'activation_function': 'relu', 'init': 'normal'}\n",
            "-0.049443619698286055,0.0063631130964408615 with: {'activation_function': 'softmax', 'init': 'uniform'}\n",
            "-0.046635381132364276,0.006313972454161632 with: {'activation_function': 'softmax', 'init': 'normal'}\n",
            "-0.04519725628197193,0.01670973744891022 with: {'activation_function': 'softmax', 'init': 'he_uniform'}\n",
            "-0.04901019260287285,0.013363160068886132 with: {'activation_function': 'relu', 'init': 'uniform'}\n",
            "-0.03586946353316307,0.0053615637289087595 with: {'activation_function': 'relu', 'init': 'normal'}\n",
            "-0.048670487105846406,0.01179751462330717 with: {'activation_function': 'relu', 'init': 'he_uniform'}\n",
            "-0.05040455982089043,0.014471493103033296 with: {'activation_function': 'tanh', 'init': 'uniform'}\n",
            "-0.044667525589466094,0.004234458764933141 with: {'activation_function': 'tanh', 'init': 'normal'}\n",
            "-0.05017928406596184,0.01270076958931748 with: {'activation_function': 'tanh', 'init': 'he_uniform'}\n",
            "-0.05279185175895691,0.007296344235896892 with: {'activation_function': 'linear', 'init': 'uniform'}\n",
            "-0.046503253281116486,0.008968195875711649 with: {'activation_function': 'linear', 'init': 'normal'}\n",
            "-0.05433637648820877,0.017646419593405432 with: {'activation_function': 'linear', 'init': 'he_uniform'}\n"
          ]
        }
      ],
      "source": [
        "# Summarize the results\n",
        "print('Best : {}, using {}'.format(grid_result.best_score_,grid_result.best_params_))\n",
        "means = grid_result.cv_results_['mean_test_score']\n",
        "stds = grid_result.cv_results_['std_test_score']\n",
        "params = grid_result.cv_results_['params']\n",
        "for mean, stdev, param in zip(means, stds, params):\n",
        "  print('{},{} with: {}'.format(mean, stdev, param))"
      ]
    },
    {
      "cell_type": "code",
      "source": [
        "print(grid_result)"
      ],
      "metadata": {
        "colab": {
          "base_uri": "https://localhost:8080/"
        },
        "id": "sL1EKy9u8Xn0",
        "outputId": "c0b4f0b0-c708-4c76-a264-d9ba94e0333a"
      },
      "id": "sL1EKy9u8Xn0",
      "execution_count": null,
      "outputs": [
        {
          "output_type": "stream",
          "name": "stdout",
          "text": [
            "GridSearchCV(cv=KFold(n_splits=5, random_state=None, shuffle=False),\n",
            "             estimator=<keras.wrappers.scikit_learn.KerasRegressor object at 0x7fe828f2a670>,\n",
            "             param_grid={'activation_function': ['softmax', 'relu', 'tanh',\n",
            "                                                 'linear'],\n",
            "                         'init': ['uniform', 'normal', 'he_uniform']},\n",
            "             verbose=10)\n"
          ]
        }
      ]
    },
    {
      "cell_type": "markdown",
      "id": "6ce002ad",
      "metadata": {
        "id": "6ce002ad"
      },
      "source": [
        "##Tuning of Hyperparameter :-Number of Neurons in activation layer"
      ]
    },
    {
      "cell_type": "code",
      "execution_count": null,
      "id": "a7e9014c",
      "metadata": {
        "colab": {
          "base_uri": "https://localhost:8080/"
        },
        "id": "a7e9014c",
        "outputId": "97f0f903-22a1-47e7-c800-46f286bf8bdc"
      },
      "outputs": [
        {
          "output_type": "stream",
          "name": "stderr",
          "text": [
            "<ipython-input-57-ebce96bdc0ec>:17: DeprecationWarning: KerasRegressor is deprecated, use Sci-Keras (https://github.com/adriangb/scikeras) instead. See https://www.adriangb.com/scikeras/stable/migration.html for help migrating.\n",
            "  model = KerasRegressor(build_fn = create_model,verbose = 0,batch_size = 20,epochs = 10)\n"
          ]
        },
        {
          "output_type": "stream",
          "name": "stdout",
          "text": [
            "Fitting 5 folds for each of 16 candidates, totalling 80 fits\n",
            "[CV 1/5; 1/16] START neuron1=5, neuron2=2.......................................\n",
            "[CV 1/5; 1/16] END .......neuron1=5, neuron2=2;, score=-0.040 total time=  11.5s\n",
            "[CV 2/5; 1/16] START neuron1=5, neuron2=2.......................................\n",
            "[CV 2/5; 1/16] END .......neuron1=5, neuron2=2;, score=-0.031 total time=  10.6s\n",
            "[CV 3/5; 1/16] START neuron1=5, neuron2=2.......................................\n",
            "[CV 3/5; 1/16] END .......neuron1=5, neuron2=2;, score=-0.038 total time=  10.6s\n",
            "[CV 4/5; 1/16] START neuron1=5, neuron2=2.......................................\n",
            "[CV 4/5; 1/16] END .......neuron1=5, neuron2=2;, score=-0.038 total time=  11.5s\n",
            "[CV 5/5; 1/16] START neuron1=5, neuron2=2.......................................\n",
            "[CV 5/5; 1/16] END .......neuron1=5, neuron2=2;, score=-0.062 total time=  11.5s\n",
            "[CV 1/5; 2/16] START neuron1=5, neuron2=5.......................................\n",
            "[CV 1/5; 2/16] END .......neuron1=5, neuron2=5;, score=-0.052 total time=  10.0s\n",
            "[CV 2/5; 2/16] START neuron1=5, neuron2=5.......................................\n",
            "[CV 2/5; 2/16] END .......neuron1=5, neuron2=5;, score=-0.033 total time=  12.1s\n",
            "[CV 3/5; 2/16] START neuron1=5, neuron2=5.......................................\n",
            "[CV 3/5; 2/16] END .......neuron1=5, neuron2=5;, score=-0.047 total time=  12.9s\n",
            "[CV 4/5; 2/16] START neuron1=5, neuron2=5.......................................\n",
            "[CV 4/5; 2/16] END .......neuron1=5, neuron2=5;, score=-0.049 total time=   9.5s\n",
            "[CV 5/5; 2/16] START neuron1=5, neuron2=5.......................................\n",
            "[CV 5/5; 2/16] END .......neuron1=5, neuron2=5;, score=-0.037 total time=  10.1s\n",
            "[CV 1/5; 3/16] START neuron1=5, neuron2=10......................................\n",
            "[CV 1/5; 3/16] END ......neuron1=5, neuron2=10;, score=-0.046 total time=  10.2s\n",
            "[CV 2/5; 3/16] START neuron1=5, neuron2=10......................................\n",
            "[CV 2/5; 3/16] END ......neuron1=5, neuron2=10;, score=-0.031 total time=  10.3s\n",
            "[CV 3/5; 3/16] START neuron1=5, neuron2=10......................................\n",
            "[CV 3/5; 3/16] END ......neuron1=5, neuron2=10;, score=-0.040 total time=  10.3s\n",
            "[CV 4/5; 3/16] START neuron1=5, neuron2=10......................................\n",
            "[CV 4/5; 3/16] END ......neuron1=5, neuron2=10;, score=-0.036 total time=   9.5s\n",
            "[CV 5/5; 3/16] START neuron1=5, neuron2=10......................................\n",
            "[CV 5/5; 3/16] END ......neuron1=5, neuron2=10;, score=-0.034 total time=   9.9s\n",
            "[CV 1/5; 4/16] START neuron1=5, neuron2=15......................................\n",
            "[CV 1/5; 4/16] END ......neuron1=5, neuron2=15;, score=-0.040 total time=  11.4s\n",
            "[CV 2/5; 4/16] START neuron1=5, neuron2=15......................................\n",
            "[CV 2/5; 4/16] END ......neuron1=5, neuron2=15;, score=-0.029 total time=  11.4s\n",
            "[CV 3/5; 4/16] START neuron1=5, neuron2=15......................................\n",
            "[CV 3/5; 4/16] END ......neuron1=5, neuron2=15;, score=-0.040 total time=  10.4s\n",
            "[CV 4/5; 4/16] START neuron1=5, neuron2=15......................................\n",
            "[CV 4/5; 4/16] END ......neuron1=5, neuron2=15;, score=-0.032 total time=  10.3s\n",
            "[CV 5/5; 4/16] START neuron1=5, neuron2=15......................................\n",
            "[CV 5/5; 4/16] END ......neuron1=5, neuron2=15;, score=-0.035 total time=  10.0s\n",
            "[CV 1/5; 5/16] START neuron1=10, neuron2=2......................................\n",
            "[CV 1/5; 5/16] END ......neuron1=10, neuron2=2;, score=-0.042 total time=   9.6s\n",
            "[CV 2/5; 5/16] START neuron1=10, neuron2=2......................................\n",
            "[CV 2/5; 5/16] END ......neuron1=10, neuron2=2;, score=-0.040 total time=  10.5s\n",
            "[CV 3/5; 5/16] START neuron1=10, neuron2=2......................................\n",
            "[CV 3/5; 5/16] END ......neuron1=10, neuron2=2;, score=-0.045 total time=  10.3s\n",
            "[CV 4/5; 5/16] START neuron1=10, neuron2=2......................................\n",
            "[CV 4/5; 5/16] END ......neuron1=10, neuron2=2;, score=-0.040 total time=  11.5s\n",
            "[CV 5/5; 5/16] START neuron1=10, neuron2=2......................................\n",
            "[CV 5/5; 5/16] END ......neuron1=10, neuron2=2;, score=-0.042 total time=  10.4s\n",
            "[CV 1/5; 6/16] START neuron1=10, neuron2=5......................................\n",
            "[CV 1/5; 6/16] END ......neuron1=10, neuron2=5;, score=-0.037 total time=  10.1s\n",
            "[CV 2/5; 6/16] START neuron1=10, neuron2=5......................................\n",
            "[CV 2/5; 6/16] END ......neuron1=10, neuron2=5;, score=-0.036 total time=   9.7s\n",
            "[CV 3/5; 6/16] START neuron1=10, neuron2=5......................................\n",
            "[CV 3/5; 6/16] END ......neuron1=10, neuron2=5;, score=-0.046 total time=  11.5s\n",
            "[CV 4/5; 6/16] START neuron1=10, neuron2=5......................................\n",
            "[CV 4/5; 6/16] END ......neuron1=10, neuron2=5;, score=-0.029 total time=  10.5s\n",
            "[CV 5/5; 6/16] START neuron1=10, neuron2=5......................................\n",
            "[CV 5/5; 6/16] END ......neuron1=10, neuron2=5;, score=-0.042 total time=  10.3s\n",
            "[CV 1/5; 7/16] START neuron1=10, neuron2=10.....................................\n",
            "[CV 1/5; 7/16] END .....neuron1=10, neuron2=10;, score=-0.049 total time=  10.5s\n",
            "[CV 2/5; 7/16] START neuron1=10, neuron2=10.....................................\n",
            "[CV 2/5; 7/16] END .....neuron1=10, neuron2=10;, score=-0.027 total time=  10.0s\n",
            "[CV 3/5; 7/16] START neuron1=10, neuron2=10.....................................\n",
            "[CV 3/5; 7/16] END .....neuron1=10, neuron2=10;, score=-0.037 total time=  11.8s\n",
            "[CV 4/5; 7/16] START neuron1=10, neuron2=10.....................................\n",
            "[CV 4/5; 7/16] END .....neuron1=10, neuron2=10;, score=-0.032 total time=   9.9s\n",
            "[CV 5/5; 7/16] START neuron1=10, neuron2=10.....................................\n",
            "[CV 5/5; 7/16] END .....neuron1=10, neuron2=10;, score=-0.035 total time=  10.4s\n",
            "[CV 1/5; 8/16] START neuron1=10, neuron2=15.....................................\n",
            "[CV 1/5; 8/16] END .....neuron1=10, neuron2=15;, score=-0.038 total time=  11.3s\n",
            "[CV 2/5; 8/16] START neuron1=10, neuron2=15.....................................\n",
            "[CV 2/5; 8/16] END .....neuron1=10, neuron2=15;, score=-0.029 total time=  10.4s\n",
            "[CV 3/5; 8/16] START neuron1=10, neuron2=15.....................................\n",
            "[CV 3/5; 8/16] END .....neuron1=10, neuron2=15;, score=-0.052 total time=  11.5s\n",
            "[CV 4/5; 8/16] START neuron1=10, neuron2=15.....................................\n",
            "[CV 4/5; 8/16] END .....neuron1=10, neuron2=15;, score=-0.031 total time=  11.5s\n",
            "[CV 5/5; 8/16] START neuron1=10, neuron2=15.....................................\n",
            "[CV 5/5; 8/16] END .....neuron1=10, neuron2=15;, score=-0.035 total time=   9.8s\n",
            "[CV 1/5; 9/16] START neuron1=15, neuron2=2......................................\n",
            "[CV 1/5; 9/16] END ......neuron1=15, neuron2=2;, score=-0.065 total time=   9.7s\n",
            "[CV 2/5; 9/16] START neuron1=15, neuron2=2......................................\n",
            "[CV 2/5; 9/16] END ......neuron1=15, neuron2=2;, score=-0.040 total time=  11.4s\n",
            "[CV 3/5; 9/16] START neuron1=15, neuron2=2......................................\n",
            "[CV 3/5; 9/16] END ......neuron1=15, neuron2=2;, score=-0.075 total time=  10.2s\n",
            "[CV 4/5; 9/16] START neuron1=15, neuron2=2......................................\n",
            "[CV 4/5; 9/16] END ......neuron1=15, neuron2=2;, score=-0.029 total time=  10.3s\n",
            "[CV 5/5; 9/16] START neuron1=15, neuron2=2......................................\n",
            "[CV 5/5; 9/16] END ......neuron1=15, neuron2=2;, score=-0.044 total time=  11.5s\n",
            "[CV 1/5; 10/16] START neuron1=15, neuron2=5.....................................\n",
            "[CV 1/5; 10/16] END .....neuron1=15, neuron2=5;, score=-0.044 total time=  11.4s\n",
            "[CV 2/5; 10/16] START neuron1=15, neuron2=5.....................................\n",
            "[CV 2/5; 10/16] END .....neuron1=15, neuron2=5;, score=-0.026 total time=   9.5s\n",
            "[CV 3/5; 10/16] START neuron1=15, neuron2=5.....................................\n",
            "[CV 3/5; 10/16] END .....neuron1=15, neuron2=5;, score=-0.051 total time=  13.3s\n",
            "[CV 4/5; 10/16] START neuron1=15, neuron2=5.....................................\n",
            "[CV 4/5; 10/16] END .....neuron1=15, neuron2=5;, score=-0.036 total time=   9.5s\n",
            "[CV 5/5; 10/16] START neuron1=15, neuron2=5.....................................\n",
            "[CV 5/5; 10/16] END .....neuron1=15, neuron2=5;, score=-0.042 total time=  10.4s\n",
            "[CV 1/5; 11/16] START neuron1=15, neuron2=10....................................\n",
            "[CV 1/5; 11/16] END ....neuron1=15, neuron2=10;, score=-0.051 total time=  10.4s\n",
            "[CV 2/5; 11/16] START neuron1=15, neuron2=10....................................\n",
            "[CV 2/5; 11/16] END ....neuron1=15, neuron2=10;, score=-0.033 total time=  11.4s\n",
            "[CV 3/5; 11/16] START neuron1=15, neuron2=10....................................\n",
            "[CV 3/5; 11/16] END ....neuron1=15, neuron2=10;, score=-0.034 total time=  11.4s\n",
            "[CV 4/5; 11/16] START neuron1=15, neuron2=10....................................\n",
            "[CV 4/5; 11/16] END ....neuron1=15, neuron2=10;, score=-0.030 total time=  10.4s\n",
            "[CV 5/5; 11/16] START neuron1=15, neuron2=10....................................\n",
            "[CV 5/5; 11/16] END ....neuron1=15, neuron2=10;, score=-0.038 total time=  11.5s\n",
            "[CV 1/5; 12/16] START neuron1=15, neuron2=15....................................\n",
            "[CV 1/5; 12/16] END ....neuron1=15, neuron2=15;, score=-0.048 total time=  11.6s\n",
            "[CV 2/5; 12/16] START neuron1=15, neuron2=15....................................\n",
            "[CV 2/5; 12/16] END ....neuron1=15, neuron2=15;, score=-0.030 total time=   9.6s\n",
            "[CV 3/5; 12/16] START neuron1=15, neuron2=15....................................\n",
            "[CV 3/5; 12/16] END ....neuron1=15, neuron2=15;, score=-0.033 total time=  11.5s\n",
            "[CV 4/5; 12/16] START neuron1=15, neuron2=15....................................\n",
            "[CV 4/5; 12/16] END ....neuron1=15, neuron2=15;, score=-0.029 total time=  11.5s\n",
            "[CV 5/5; 12/16] START neuron1=15, neuron2=15....................................\n",
            "[CV 5/5; 12/16] END ....neuron1=15, neuron2=15;, score=-0.031 total time=  11.5s\n",
            "[CV 1/5; 13/16] START neuron1=20, neuron2=2.....................................\n",
            "[CV 1/5; 13/16] END .....neuron1=20, neuron2=2;, score=-0.045 total time=  10.4s\n",
            "[CV 2/5; 13/16] START neuron1=20, neuron2=2.....................................\n",
            "[CV 2/5; 13/16] END .....neuron1=20, neuron2=2;, score=-0.038 total time=  10.3s\n",
            "[CV 3/5; 13/16] START neuron1=20, neuron2=2.....................................\n",
            "[CV 3/5; 13/16] END .....neuron1=20, neuron2=2;, score=-0.050 total time=  10.1s\n",
            "[CV 4/5; 13/16] START neuron1=20, neuron2=2.....................................\n",
            "[CV 4/5; 13/16] END .....neuron1=20, neuron2=2;, score=-0.029 total time=   9.6s\n",
            "[CV 5/5; 13/16] START neuron1=20, neuron2=2.....................................\n",
            "[CV 5/5; 13/16] END .....neuron1=20, neuron2=2;, score=-0.029 total time=  10.4s\n",
            "[CV 1/5; 14/16] START neuron1=20, neuron2=5.....................................\n",
            "[CV 1/5; 14/16] END .....neuron1=20, neuron2=5;, score=-0.044 total time=  11.5s\n",
            "[CV 2/5; 14/16] START neuron1=20, neuron2=5.....................................\n",
            "[CV 2/5; 14/16] END .....neuron1=20, neuron2=5;, score=-0.028 total time=  10.3s\n",
            "[CV 3/5; 14/16] START neuron1=20, neuron2=5.....................................\n",
            "[CV 3/5; 14/16] END .....neuron1=20, neuron2=5;, score=-0.044 total time=  12.8s\n",
            "[CV 4/5; 14/16] START neuron1=20, neuron2=5.....................................\n",
            "[CV 4/5; 14/16] END .....neuron1=20, neuron2=5;, score=-0.033 total time=  11.3s\n",
            "[CV 5/5; 14/16] START neuron1=20, neuron2=5.....................................\n",
            "[CV 5/5; 14/16] END .....neuron1=20, neuron2=5;, score=-0.035 total time=  11.3s\n",
            "[CV 1/5; 15/16] START neuron1=20, neuron2=10....................................\n",
            "[CV 1/5; 15/16] END ....neuron1=20, neuron2=10;, score=-0.042 total time=  11.5s\n",
            "[CV 2/5; 15/16] START neuron1=20, neuron2=10....................................\n",
            "[CV 2/5; 15/16] END ....neuron1=20, neuron2=10;, score=-0.030 total time=  11.4s\n",
            "[CV 3/5; 15/16] START neuron1=20, neuron2=10....................................\n",
            "[CV 3/5; 15/16] END ....neuron1=20, neuron2=10;, score=-0.047 total time=  11.4s\n",
            "[CV 4/5; 15/16] START neuron1=20, neuron2=10....................................\n",
            "[CV 4/5; 15/16] END ....neuron1=20, neuron2=10;, score=-0.046 total time=   9.4s\n",
            "[CV 5/5; 15/16] START neuron1=20, neuron2=10....................................\n",
            "[CV 5/5; 15/16] END ....neuron1=20, neuron2=10;, score=-0.034 total time=  10.0s\n",
            "[CV 1/5; 16/16] START neuron1=20, neuron2=15....................................\n",
            "[CV 1/5; 16/16] END ....neuron1=20, neuron2=15;, score=-0.036 total time=  10.3s\n",
            "[CV 2/5; 16/16] START neuron1=20, neuron2=15....................................\n",
            "[CV 2/5; 16/16] END ....neuron1=20, neuron2=15;, score=-0.031 total time=  11.4s\n",
            "[CV 3/5; 16/16] START neuron1=20, neuron2=15....................................\n",
            "[CV 3/5; 16/16] END ....neuron1=20, neuron2=15;, score=-0.043 total time=  11.4s\n",
            "[CV 4/5; 16/16] START neuron1=20, neuron2=15....................................\n",
            "[CV 4/5; 16/16] END ....neuron1=20, neuron2=15;, score=-0.037 total time=  10.3s\n",
            "[CV 5/5; 16/16] START neuron1=20, neuron2=15....................................\n",
            "[CV 5/5; 16/16] END ....neuron1=20, neuron2=15;, score=-0.040 total time=   9.5s\n"
          ]
        }
      ],
      "source": [
        "# Defining the model\n",
        "\n",
        "def create_model(neuron1,neuron2):\n",
        "    model = Sequential()\n",
        "    model.add(Dense(neuron1,input_dim = 10,kernel_initializer = 'normal',activation = 'relu'))\n",
        "    model.add(Dropout(0.0))\n",
        "    model.add(Dense(neuron2,input_dim = neuron1,kernel_initializer = 'normal',activation = 'relu'))\n",
        "    model.add(Dropout(0.0))\n",
        "    model.add(Dense(1,activation = 'linear'))\n",
        "    \n",
        "    opt = SGD(learning_rate = 0.01, momentum=0.09)\n",
        "    model.compile(loss = 'mean_absolute_error',optimizer = opt, metrics = ['mse'])\n",
        "    return model\n",
        "\n",
        "# Create the model\n",
        "\n",
        "model = KerasRegressor(build_fn = create_model,verbose = 0,batch_size = 20,epochs = 10)\n",
        "\n",
        "# Define the grid search parameters\n",
        "\n",
        "neuron1 = [5,10,15,20]\n",
        "neuron2 = [2,5,10,15]\n",
        "\n",
        "# Make a dictionary of the grid search parameters\n",
        "\n",
        "param_grids = dict(neuron1 = neuron1,neuron2 = neuron2)\n",
        "\n",
        "# Build and fit the GridSearchCV\n",
        "\n",
        "grid = GridSearchCV(estimator = model,param_grid = param_grids,cv = KFold(),verbose = 10)\n",
        "grid_result = grid.fit(X_standardized,y)"
      ]
    },
    {
      "cell_type": "code",
      "execution_count": null,
      "id": "d4a45440",
      "metadata": {
        "colab": {
          "base_uri": "https://localhost:8080/"
        },
        "id": "d4a45440",
        "outputId": "1471d400-775d-4d7f-ed34-2bb154994f7b"
      },
      "outputs": [
        {
          "output_type": "stream",
          "name": "stdout",
          "text": [
            "Best : -0.034141774475574496, using {'neuron1': 15, 'neuron2': 15}\n",
            "-0.0417239636182785,0.010376785516289294 with: {'neuron1': 5, 'neuron2': 2}\n",
            "-0.043704576790332794,0.0076083835805578984 with: {'neuron1': 5, 'neuron2': 5}\n",
            "-0.037311183661222456,0.00497909284869106 with: {'neuron1': 5, 'neuron2': 10}\n",
            "-0.035120315849781036,0.004274256255503068 with: {'neuron1': 5, 'neuron2': 15}\n",
            "-0.041737516224384305,0.0017732702583670176 with: {'neuron1': 10, 'neuron2': 2}\n",
            "-0.03815852366387844,0.005748033420505959 with: {'neuron1': 10, 'neuron2': 5}\n",
            "-0.03579554930329323,0.007303438812709494 with: {'neuron1': 10, 'neuron2': 10}\n",
            "-0.037037278339266774,0.00780896494867074 with: {'neuron1': 10, 'neuron2': 15}\n",
            "-0.050447069108486176,0.016960155763360834 with: {'neuron1': 15, 'neuron2': 2}\n",
            "-0.03973073326051235,0.008259193358583645 with: {'neuron1': 15, 'neuron2': 5}\n",
            "-0.03728127777576447,0.007446913006882972 with: {'neuron1': 15, 'neuron2': 10}\n",
            "-0.034141774475574496,0.007001982309894002 with: {'neuron1': 15, 'neuron2': 15}\n",
            "-0.0383357260376215,0.00835682886098065 with: {'neuron1': 20, 'neuron2': 2}\n",
            "-0.03679063022136688,0.006527250636508994 with: {'neuron1': 20, 'neuron2': 5}\n",
            "-0.039907798543572424,0.0065156702237343924 with: {'neuron1': 20, 'neuron2': 10}\n",
            "-0.037517999112606046,0.0039709555077453345 with: {'neuron1': 20, 'neuron2': 15}\n"
          ]
        }
      ],
      "source": [
        "# Summarize the results\n",
        "print('Best : {}, using {}'.format(grid_result.best_score_,grid_result.best_params_))\n",
        "means = grid_result.cv_results_['mean_test_score']\n",
        "stds = grid_result.cv_results_['std_test_score']\n",
        "params = grid_result.cv_results_['params']\n",
        "for mean, stdev, param in zip(means, stds, params):\n",
        "  print('{},{} with: {}'.format(mean, stdev, param)) "
      ]
    },
    {
      "cell_type": "markdown",
      "id": "3971d1bf",
      "metadata": {
        "id": "3971d1bf"
      },
      "source": [
        "##Training model with optimum values of Hyperparameters"
      ]
    },
    {
      "cell_type": "code",
      "execution_count": null,
      "id": "aa9723f2",
      "metadata": {
        "colab": {
          "base_uri": "https://localhost:8080/"
        },
        "id": "aa9723f2",
        "outputId": "fb2eab6b-cc2c-4a3b-c102-b6fe4a905291"
      },
      "outputs": [
        {
          "output_type": "stream",
          "name": "stdout",
          "text": [
            "Epoch 1/100\n",
            "752/752 [==============================] - 2s 2ms/step - loss: 0.2821 - mse: 0.3039\n",
            "Epoch 2/100\n",
            "752/752 [==============================] - 1s 2ms/step - loss: 0.0402 - mse: 0.0031\n",
            "Epoch 3/100\n",
            "752/752 [==============================] - 1s 2ms/step - loss: 0.0358 - mse: 0.0025\n",
            "Epoch 4/100\n",
            "752/752 [==============================] - 1s 2ms/step - loss: 0.0344 - mse: 0.0023\n",
            "Epoch 5/100\n",
            "752/752 [==============================] - 1s 2ms/step - loss: 0.0335 - mse: 0.0022\n",
            "Epoch 6/100\n",
            "752/752 [==============================] - 2s 3ms/step - loss: 0.0326 - mse: 0.0021\n",
            "Epoch 7/100\n",
            "752/752 [==============================] - 1s 2ms/step - loss: 0.0322 - mse: 0.0020\n",
            "Epoch 8/100\n",
            "752/752 [==============================] - 1s 2ms/step - loss: 0.0317 - mse: 0.0020\n",
            "Epoch 9/100\n",
            "752/752 [==============================] - 1s 2ms/step - loss: 0.0311 - mse: 0.0019\n",
            "Epoch 10/100\n",
            "752/752 [==============================] - 1s 2ms/step - loss: 0.0309 - mse: 0.0019\n",
            "Epoch 11/100\n",
            "752/752 [==============================] - 1s 2ms/step - loss: 0.0306 - mse: 0.0018\n",
            "Epoch 12/100\n",
            "752/752 [==============================] - 1s 2ms/step - loss: 0.0304 - mse: 0.0018\n",
            "Epoch 13/100\n",
            "752/752 [==============================] - 1s 2ms/step - loss: 0.0299 - mse: 0.0018\n",
            "Epoch 14/100\n",
            "752/752 [==============================] - 1s 2ms/step - loss: 0.0296 - mse: 0.0017\n",
            "Epoch 15/100\n",
            "752/752 [==============================] - 2s 3ms/step - loss: 0.0300 - mse: 0.0018\n",
            "Epoch 16/100\n",
            "752/752 [==============================] - 1s 2ms/step - loss: 0.0294 - mse: 0.0017\n",
            "Epoch 17/100\n",
            "752/752 [==============================] - 1s 2ms/step - loss: 0.0292 - mse: 0.0017\n",
            "Epoch 18/100\n",
            "752/752 [==============================] - 1s 2ms/step - loss: 0.0290 - mse: 0.0017\n",
            "Epoch 19/100\n",
            "752/752 [==============================] - 1s 2ms/step - loss: 0.0293 - mse: 0.0017\n",
            "Epoch 20/100\n",
            "752/752 [==============================] - 1s 2ms/step - loss: 0.0286 - mse: 0.0016\n",
            "Epoch 21/100\n",
            "752/752 [==============================] - 1s 2ms/step - loss: 0.0287 - mse: 0.0017\n",
            "Epoch 22/100\n",
            "752/752 [==============================] - 1s 2ms/step - loss: 0.0285 - mse: 0.0016\n",
            "Epoch 23/100\n",
            "752/752 [==============================] - 2s 2ms/step - loss: 0.0282 - mse: 0.0016\n",
            "Epoch 24/100\n",
            "752/752 [==============================] - 2s 3ms/step - loss: 0.0283 - mse: 0.0016\n",
            "Epoch 25/100\n",
            "752/752 [==============================] - 1s 2ms/step - loss: 0.0280 - mse: 0.0016\n",
            "Epoch 26/100\n",
            "752/752 [==============================] - 1s 2ms/step - loss: 0.0282 - mse: 0.0016\n",
            "Epoch 27/100\n",
            "752/752 [==============================] - 1s 2ms/step - loss: 0.0280 - mse: 0.0016\n",
            "Epoch 28/100\n",
            "752/752 [==============================] - 1s 2ms/step - loss: 0.0280 - mse: 0.0016\n",
            "Epoch 29/100\n",
            "752/752 [==============================] - 1s 2ms/step - loss: 0.0282 - mse: 0.0016\n",
            "Epoch 30/100\n",
            "752/752 [==============================] - 1s 2ms/step - loss: 0.0280 - mse: 0.0016\n",
            "Epoch 31/100\n",
            "752/752 [==============================] - 1s 2ms/step - loss: 0.0278 - mse: 0.0016\n",
            "Epoch 32/100\n",
            "752/752 [==============================] - 1s 2ms/step - loss: 0.0277 - mse: 0.0015\n",
            "Epoch 33/100\n",
            "752/752 [==============================] - 2s 3ms/step - loss: 0.0277 - mse: 0.0015\n",
            "Epoch 34/100\n",
            "752/752 [==============================] - 1s 2ms/step - loss: 0.0278 - mse: 0.0015\n",
            "Epoch 35/100\n",
            "752/752 [==============================] - 1s 2ms/step - loss: 0.0274 - mse: 0.0015\n",
            "Epoch 36/100\n",
            "752/752 [==============================] - 1s 2ms/step - loss: 0.0277 - mse: 0.0015\n",
            "Epoch 37/100\n",
            "752/752 [==============================] - 1s 2ms/step - loss: 0.0274 - mse: 0.0015\n",
            "Epoch 38/100\n",
            "752/752 [==============================] - 1s 2ms/step - loss: 0.0274 - mse: 0.0015\n",
            "Epoch 39/100\n",
            "752/752 [==============================] - 1s 2ms/step - loss: 0.0273 - mse: 0.0015\n",
            "Epoch 40/100\n",
            "752/752 [==============================] - 1s 2ms/step - loss: 0.0273 - mse: 0.0015\n",
            "Epoch 41/100\n",
            "752/752 [==============================] - 1s 2ms/step - loss: 0.0273 - mse: 0.0015\n",
            "Epoch 42/100\n",
            "752/752 [==============================] - 2s 3ms/step - loss: 0.0270 - mse: 0.0015\n",
            "Epoch 43/100\n",
            "752/752 [==============================] - 1s 2ms/step - loss: 0.0274 - mse: 0.0015\n",
            "Epoch 44/100\n",
            "752/752 [==============================] - 1s 2ms/step - loss: 0.0271 - mse: 0.0015\n",
            "Epoch 45/100\n",
            "752/752 [==============================] - 1s 2ms/step - loss: 0.0270 - mse: 0.0015\n",
            "Epoch 46/100\n",
            "752/752 [==============================] - 1s 2ms/step - loss: 0.0270 - mse: 0.0015\n",
            "Epoch 47/100\n",
            "752/752 [==============================] - 1s 2ms/step - loss: 0.0269 - mse: 0.0015\n",
            "Epoch 48/100\n",
            "752/752 [==============================] - 1s 2ms/step - loss: 0.0270 - mse: 0.0015\n",
            "Epoch 49/100\n",
            "752/752 [==============================] - 1s 2ms/step - loss: 0.0272 - mse: 0.0015\n",
            "Epoch 50/100\n",
            "752/752 [==============================] - 1s 2ms/step - loss: 0.0267 - mse: 0.0015\n",
            "Epoch 51/100\n",
            "752/752 [==============================] - 2s 3ms/step - loss: 0.0271 - mse: 0.0015\n",
            "Epoch 52/100\n",
            "752/752 [==============================] - 1s 2ms/step - loss: 0.0268 - mse: 0.0015\n",
            "Epoch 53/100\n",
            "752/752 [==============================] - 1s 2ms/step - loss: 0.0269 - mse: 0.0015\n",
            "Epoch 54/100\n",
            "752/752 [==============================] - 1s 2ms/step - loss: 0.0270 - mse: 0.0015\n",
            "Epoch 55/100\n",
            "752/752 [==============================] - 1s 2ms/step - loss: 0.0267 - mse: 0.0014\n",
            "Epoch 56/100\n",
            "752/752 [==============================] - 1s 2ms/step - loss: 0.0268 - mse: 0.0015\n",
            "Epoch 57/100\n",
            "752/752 [==============================] - 1s 2ms/step - loss: 0.0267 - mse: 0.0015\n",
            "Epoch 58/100\n",
            "752/752 [==============================] - 1s 2ms/step - loss: 0.0269 - mse: 0.0015\n",
            "Epoch 59/100\n",
            "752/752 [==============================] - 1s 2ms/step - loss: 0.0266 - mse: 0.0014\n",
            "Epoch 60/100\n",
            "752/752 [==============================] - 2s 3ms/step - loss: 0.0268 - mse: 0.0015\n",
            "Epoch 61/100\n",
            "752/752 [==============================] - 1s 2ms/step - loss: 0.0266 - mse: 0.0014\n",
            "Epoch 62/100\n",
            "752/752 [==============================] - 2s 3ms/step - loss: 0.0267 - mse: 0.0014\n",
            "Epoch 63/100\n",
            "752/752 [==============================] - 1s 2ms/step - loss: 0.0266 - mse: 0.0014\n",
            "Epoch 64/100\n",
            "752/752 [==============================] - 1s 2ms/step - loss: 0.0269 - mse: 0.0014\n",
            "Epoch 65/100\n",
            "752/752 [==============================] - 1s 2ms/step - loss: 0.0266 - mse: 0.0014\n",
            "Epoch 66/100\n",
            "752/752 [==============================] - 1s 2ms/step - loss: 0.0265 - mse: 0.0014\n",
            "Epoch 67/100\n",
            "752/752 [==============================] - 1s 2ms/step - loss: 0.0265 - mse: 0.0014\n",
            "Epoch 68/100\n",
            "752/752 [==============================] - 4s 5ms/step - loss: 0.0265 - mse: 0.0014\n",
            "Epoch 69/100\n",
            "752/752 [==============================] - 1s 2ms/step - loss: 0.0263 - mse: 0.0014\n",
            "Epoch 70/100\n",
            "752/752 [==============================] - 1s 2ms/step - loss: 0.0265 - mse: 0.0014\n",
            "Epoch 71/100\n",
            "752/752 [==============================] - 1s 2ms/step - loss: 0.0265 - mse: 0.0014\n",
            "Epoch 72/100\n",
            "752/752 [==============================] - 1s 2ms/step - loss: 0.0265 - mse: 0.0014\n",
            "Epoch 73/100\n",
            "752/752 [==============================] - 1s 2ms/step - loss: 0.0263 - mse: 0.0014\n",
            "Epoch 74/100\n",
            "752/752 [==============================] - 1s 2ms/step - loss: 0.0265 - mse: 0.0014\n",
            "Epoch 75/100\n",
            "752/752 [==============================] - 1s 2ms/step - loss: 0.0265 - mse: 0.0014\n",
            "Epoch 76/100\n",
            "752/752 [==============================] - 2s 3ms/step - loss: 0.0264 - mse: 0.0014\n",
            "Epoch 77/100\n",
            "752/752 [==============================] - 2s 2ms/step - loss: 0.0262 - mse: 0.0014\n",
            "Epoch 78/100\n",
            "752/752 [==============================] - 1s 2ms/step - loss: 0.0264 - mse: 0.0014\n",
            "Epoch 79/100\n",
            "752/752 [==============================] - 1s 2ms/step - loss: 0.0263 - mse: 0.0014\n",
            "Epoch 80/100\n",
            "752/752 [==============================] - 1s 2ms/step - loss: 0.0264 - mse: 0.0014\n",
            "Epoch 81/100\n",
            "752/752 [==============================] - 1s 2ms/step - loss: 0.0265 - mse: 0.0014\n",
            "Epoch 82/100\n",
            "752/752 [==============================] - 1s 2ms/step - loss: 0.0263 - mse: 0.0014\n",
            "Epoch 83/100\n",
            "752/752 [==============================] - 1s 2ms/step - loss: 0.0264 - mse: 0.0014\n",
            "Epoch 84/100\n",
            "752/752 [==============================] - 1s 2ms/step - loss: 0.0261 - mse: 0.0014\n",
            "Epoch 85/100\n",
            "752/752 [==============================] - 2s 3ms/step - loss: 0.0263 - mse: 0.0014\n",
            "Epoch 86/100\n",
            "752/752 [==============================] - 2s 2ms/step - loss: 0.0260 - mse: 0.0014\n",
            "Epoch 87/100\n",
            "752/752 [==============================] - 1s 2ms/step - loss: 0.0262 - mse: 0.0014\n",
            "Epoch 88/100\n",
            "752/752 [==============================] - 1s 2ms/step - loss: 0.0263 - mse: 0.0014\n",
            "Epoch 89/100\n",
            "752/752 [==============================] - 1s 2ms/step - loss: 0.0262 - mse: 0.0014\n",
            "Epoch 90/100\n",
            "752/752 [==============================] - 1s 2ms/step - loss: 0.0261 - mse: 0.0014\n",
            "Epoch 91/100\n",
            "752/752 [==============================] - 1s 2ms/step - loss: 0.0260 - mse: 0.0014\n",
            "Epoch 92/100\n",
            "752/752 [==============================] - 1s 2ms/step - loss: 0.0259 - mse: 0.0014\n",
            "Epoch 93/100\n",
            "752/752 [==============================] - 1s 2ms/step - loss: 0.0263 - mse: 0.0014\n",
            "Epoch 94/100\n",
            "752/752 [==============================] - 2s 3ms/step - loss: 0.0259 - mse: 0.0014\n",
            "Epoch 95/100\n",
            "752/752 [==============================] - 2s 2ms/step - loss: 0.0259 - mse: 0.0014\n",
            "Epoch 96/100\n",
            "752/752 [==============================] - 1s 2ms/step - loss: 0.0260 - mse: 0.0014\n",
            "Epoch 97/100\n",
            "752/752 [==============================] - 1s 2ms/step - loss: 0.0261 - mse: 0.0014\n",
            "Epoch 98/100\n",
            "752/752 [==============================] - 1s 2ms/step - loss: 0.0262 - mse: 0.0014\n",
            "Epoch 99/100\n",
            "752/752 [==============================] - 1s 2ms/step - loss: 0.0259 - mse: 0.0014\n",
            "Epoch 100/100\n",
            "752/752 [==============================] - 1s 2ms/step - loss: 0.0259 - mse: 0.0014\n"
          ]
        }
      ],
      "source": [
        "from sklearn.metrics import classification_report, accuracy_score\n",
        "\n",
        "# Defining the model\n",
        "model = Sequential()\n",
        "model.add(Dense(15,input_dim = 10,kernel_initializer = 'normal',activation = 'relu'))\n",
        "model.add(Dropout(0.0))\n",
        "model.add(Dense(15,input_dim = 10,kernel_initializer = 'normal',activation = 'relu'))\n",
        "model.add(Dropout(0.0))\n",
        "model.add(Dense(1,activation = 'linear'))\n",
        "    \n",
        "opt = SGD(learning_rate = 0.01,momentum=0.09) #sgd = SGD(lr=learning_rate, momentum=momentum, decay=decay_rate, nesterov=False)\n",
        "model.compile(loss = 'mean_absolute_error',optimizer = opt,metrics = ['mse'])\n",
        "   \n",
        "# Fitting the model\n",
        "\n",
        "final_model=model.fit(X_standardized,y,epochs=100, batch_size=20)\n",
        "\n"
      ]
    },
    {
      "cell_type": "code",
      "source": [
        "# evaluate the model\n",
        "_, MSE = model.evaluate(X_standardized,y, verbose=0)\n",
        "\n",
        "# Printing the metrics\n",
        "print(\"Mean Square Error : \", MSE)"
      ],
      "metadata": {
        "colab": {
          "base_uri": "https://localhost:8080/"
        },
        "id": "R-o_GbFwIhlJ",
        "outputId": "c5e74798-ae76-47de-96fb-75f37e020fe4"
      },
      "id": "R-o_GbFwIhlJ",
      "execution_count": null,
      "outputs": [
        {
          "output_type": "stream",
          "name": "stdout",
          "text": [
            "Mean Square Error :  0.0012869089841842651\n"
          ]
        }
      ]
    },
    {
      "cell_type": "code",
      "source": [
        "## As per above results, we can see MSE value decreased from 0.003 to 0.0012 by using optimum values in the model."
      ],
      "metadata": {
        "id": "IRzFUGkeRXXg"
      },
      "id": "IRzFUGkeRXXg",
      "execution_count": null,
      "outputs": []
    },
    {
      "cell_type": "code",
      "execution_count": null,
      "id": "8e087e11",
      "metadata": {
        "colab": {
          "base_uri": "https://localhost:8080/"
        },
        "id": "8e087e11",
        "outputId": "d543fa65-613f-4385-cf38-af7c979760f8"
      },
      "outputs": [
        {
          "output_type": "execute_result",
          "data": {
            "text/plain": [
              "0.03587351368606461"
            ]
          },
          "metadata": {},
          "execution_count": 68
        }
      ],
      "source": [
        "import numpy as np\n",
        "RMSE=np.sqrt(MSE)\n",
        "RMSE"
      ]
    },
    {
      "cell_type": "code",
      "execution_count": null,
      "id": "ffc61c0f",
      "metadata": {
        "colab": {
          "base_uri": "https://localhost:8080/"
        },
        "id": "ffc61c0f",
        "outputId": "a737f574-0a3b-4d7f-9a04-53e383dcc658"
      },
      "outputs": [
        {
          "output_type": "stream",
          "name": "stdout",
          "text": [
            "Root Mean Squared Error :  0.03587351368606461\n"
          ]
        }
      ],
      "source": [
        "print(\"Root Mean Squared Error : \" , RMSE)"
      ]
    },
    {
      "cell_type": "code",
      "execution_count": null,
      "id": "bf3029f9",
      "metadata": {
        "id": "bf3029f9"
      },
      "outputs": [],
      "source": []
    }
  ],
  "metadata": {
    "kernelspec": {
      "display_name": "Python 3 (ipykernel)",
      "language": "python",
      "name": "python3"
    },
    "language_info": {
      "codemirror_mode": {
        "name": "ipython",
        "version": 3
      },
      "file_extension": ".py",
      "mimetype": "text/x-python",
      "name": "python",
      "nbconvert_exporter": "python",
      "pygments_lexer": "ipython3",
      "version": "3.9.12"
    },
    "colab": {
      "provenance": []
    }
  },
  "nbformat": 4,
  "nbformat_minor": 5
}